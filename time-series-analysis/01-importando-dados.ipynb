{
 "cells": [
  {
   "cell_type": "code",
   "execution_count": 1,
   "metadata": {},
   "outputs": [],
   "source": [
    "# impotação do pandas\n",
    "\n",
    "import pandas as pd        # biblioteca para manipulação de dados\n",
    "import numpy as np         # biblioteca para calculos matematicos\n",
    "import html5lib            # biblioteca para leitura de arquivos html\n",
    "import json                # biblioteca para leitura de arquivos json"
   ]
  },
  {
   "cell_type": "code",
   "execution_count": 2,
   "metadata": {},
   "outputs": [],
   "source": [
    "# criando um dicionario\n",
    "\n",
    "dict = {'a': 5, 'b': 'cat', 'c': 42}"
   ]
  },
  {
   "cell_type": "code",
   "execution_count": 3,
   "metadata": {},
   "outputs": [
    {
     "data": {
      "text/plain": [
       "a      5\n",
       "b    cat\n",
       "c     42\n",
       "dtype: object"
      ]
     },
     "execution_count": 3,
     "metadata": {},
     "output_type": "execute_result"
    }
   ],
   "source": [
    "# transformando dicionario em uma serie pandas\n",
    "\n",
    "pd.Series(dict)"
   ]
  },
  {
   "cell_type": "code",
   "execution_count": 4,
   "metadata": {},
   "outputs": [
    {
     "data": {
      "text/plain": [
       "Amy      100\n",
       "Bobby    cat\n",
       "Cat      310\n",
       "Dom      gog\n",
       "Ema      500\n",
       "dtype: object"
      ]
     },
     "execution_count": 4,
     "metadata": {},
     "output_type": "execute_result"
    }
   ],
   "source": [
    "# criando uma serie pandas\n",
    "\n",
    "oneD = pd.Series([100, 'cat', 310, 'gog', 500], \n",
    "                 ['Amy', 'Bobby', 'Cat', 'Dom', 'Ema'])\n",
    "oneD   "
   ]
  },
  {
   "cell_type": "code",
   "execution_count": 5,
   "metadata": {},
   "outputs": [
    {
     "data": {
      "text/plain": [
       "Amy      100\n",
       "Bobby    cat\n",
       "Cat      310\n",
       "Dom      gog\n",
       "Ema      500\n",
       "dtype: object"
      ]
     },
     "execution_count": 5,
     "metadata": {},
     "output_type": "execute_result"
    }
   ],
   "source": [
    "# definição do indice da serie\n",
    "\n",
    "oneD = pd.Series([100, 'cat', 310, 'gog', 500], \n",
    "                 index=['Amy', 'Bobby', 'Cat', 'Dom', 'Ema'])\n",
    "oneD"
   ]
  },
  {
   "cell_type": "code",
   "execution_count": 6,
   "metadata": {},
   "outputs": [
    {
     "data": {
      "text/plain": [
       "Cat    310\n",
       "Ema    500\n",
       "dtype: object"
      ]
     },
     "execution_count": 6,
     "metadata": {},
     "output_type": "execute_result"
    }
   ],
   "source": [
    "# retornando os valores das chaves\n",
    "\n",
    "oneD.loc[['Cat', 'Ema']]"
   ]
  },
  {
   "cell_type": "code",
   "execution_count": 7,
   "metadata": {},
   "outputs": [
    {
     "data": {
      "text/plain": [
       "'cat'"
      ]
     },
     "execution_count": 7,
     "metadata": {},
     "output_type": "execute_result"
    }
   ],
   "source": [
    "# busca por valores especificos no indice\n",
    "\n",
    "oneD.iloc[1]"
   ]
  },
  {
   "cell_type": "code",
   "execution_count": 8,
   "metadata": {},
   "outputs": [
    {
     "data": {
      "text/plain": [
       "(True, False)"
      ]
     },
     "execution_count": 8,
     "metadata": {},
     "output_type": "execute_result"
    }
   ],
   "source": [
    "# diferenças\n",
    "\n",
    "'Cat' in oneD, 'cat' in oneD"
   ]
  },
  {
   "cell_type": "code",
   "execution_count": 9,
   "metadata": {},
   "outputs": [],
   "source": [
    "# criando um dicionario\n",
    "\n",
    "d = {'A': pd.Series([5., 2., 3.], index=['Maça', 'Pera', 'Laranja']), \n",
    "     'B': pd.Series([10., 20., 30., 40.], index=['Maça', 'Pera', 'Laranja', 'Melão'])}"
   ]
  },
  {
   "cell_type": "code",
   "execution_count": 10,
   "metadata": {},
   "outputs": [
    {
     "data": {
      "text/html": [
       "<div>\n",
       "<style scoped>\n",
       "    .dataframe tbody tr th:only-of-type {\n",
       "        vertical-align: middle;\n",
       "    }\n",
       "\n",
       "    .dataframe tbody tr th {\n",
       "        vertical-align: top;\n",
       "    }\n",
       "\n",
       "    .dataframe thead th {\n",
       "        text-align: right;\n",
       "    }\n",
       "</style>\n",
       "<table border=\"1\" class=\"dataframe\">\n",
       "  <thead>\n",
       "    <tr style=\"text-align: right;\">\n",
       "      <th></th>\n",
       "      <th>A</th>\n",
       "      <th>B</th>\n",
       "    </tr>\n",
       "  </thead>\n",
       "  <tbody>\n",
       "    <tr>\n",
       "      <th>Laranja</th>\n",
       "      <td>3.0</td>\n",
       "      <td>30.0</td>\n",
       "    </tr>\n",
       "    <tr>\n",
       "      <th>Maça</th>\n",
       "      <td>5.0</td>\n",
       "      <td>10.0</td>\n",
       "    </tr>\n",
       "    <tr>\n",
       "      <th>Melão</th>\n",
       "      <td>NaN</td>\n",
       "      <td>40.0</td>\n",
       "    </tr>\n",
       "    <tr>\n",
       "      <th>Pera</th>\n",
       "      <td>2.0</td>\n",
       "      <td>20.0</td>\n",
       "    </tr>\n",
       "  </tbody>\n",
       "</table>\n",
       "</div>"
      ],
      "text/plain": [
       "           A     B\n",
       "Laranja  3.0  30.0\n",
       "Maça     5.0  10.0\n",
       "Melão    NaN  40.0\n",
       "Pera     2.0  20.0"
      ]
     },
     "execution_count": 10,
     "metadata": {},
     "output_type": "execute_result"
    }
   ],
   "source": [
    "# transformando dicionario em dataframe\n",
    "\n",
    "df = pd.DataFrame(d)\n",
    "df"
   ]
  },
  {
   "cell_type": "code",
   "execution_count": 11,
   "metadata": {},
   "outputs": [
    {
     "name": "stdout",
     "output_type": "stream",
     "text": [
      "<class 'pandas.core.frame.DataFrame'>\n"
     ]
    }
   ],
   "source": [
    "# imprimindo tipo\n",
    "\n",
    "print(type(df))"
   ]
  },
  {
   "cell_type": "code",
   "execution_count": 12,
   "metadata": {},
   "outputs": [
    {
     "data": {
      "text/html": [
       "<div>\n",
       "<style scoped>\n",
       "    .dataframe tbody tr th:only-of-type {\n",
       "        vertical-align: middle;\n",
       "    }\n",
       "\n",
       "    .dataframe tbody tr th {\n",
       "        vertical-align: top;\n",
       "    }\n",
       "\n",
       "    .dataframe thead th {\n",
       "        text-align: right;\n",
       "    }\n",
       "</style>\n",
       "<table border=\"1\" class=\"dataframe\">\n",
       "  <thead>\n",
       "    <tr style=\"text-align: right;\">\n",
       "      <th></th>\n",
       "      <th>A</th>\n",
       "    </tr>\n",
       "  </thead>\n",
       "  <tbody>\n",
       "    <tr>\n",
       "      <th>Laranja</th>\n",
       "      <td>3.0</td>\n",
       "    </tr>\n",
       "    <tr>\n",
       "      <th>Melão</th>\n",
       "      <td>NaN</td>\n",
       "    </tr>\n",
       "    <tr>\n",
       "      <th>Maça</th>\n",
       "      <td>5.0</td>\n",
       "    </tr>\n",
       "  </tbody>\n",
       "</table>\n",
       "</div>"
      ],
      "text/plain": [
       "           A\n",
       "Laranja  3.0\n",
       "Melão    NaN\n",
       "Maça     5.0"
      ]
     },
     "execution_count": 12,
     "metadata": {},
     "output_type": "execute_result"
    }
   ],
   "source": [
    "# filto dataframe\n",
    "\n",
    "pd.DataFrame(df, index=['Laranja', 'Melão', 'Maça'], columns=['A'])"
   ]
  },
  {
   "cell_type": "code",
   "execution_count": 13,
   "metadata": {},
   "outputs": [],
   "source": [
    "# importando dados de um arquivo csv\n",
    "\n",
    "dataset = pd.read_csv('./data/Resp2.csv')"
   ]
  },
  {
   "cell_type": "code",
   "execution_count": 14,
   "metadata": {},
   "outputs": [
    {
     "data": {
      "text/html": [
       "<div>\n",
       "<style scoped>\n",
       "    .dataframe tbody tr th:only-of-type {\n",
       "        vertical-align: middle;\n",
       "    }\n",
       "\n",
       "    .dataframe tbody tr th {\n",
       "        vertical-align: top;\n",
       "    }\n",
       "\n",
       "    .dataframe thead th {\n",
       "        text-align: right;\n",
       "    }\n",
       "</style>\n",
       "<table border=\"1\" class=\"dataframe\">\n",
       "  <thead>\n",
       "    <tr style=\"text-align: right;\">\n",
       "      <th></th>\n",
       "      <th>experience</th>\n",
       "      <th>respiration</th>\n",
       "    </tr>\n",
       "  </thead>\n",
       "  <tbody>\n",
       "    <tr>\n",
       "      <th>0</th>\n",
       "      <td>0</td>\n",
       "      <td>3.94</td>\n",
       "    </tr>\n",
       "    <tr>\n",
       "      <th>1</th>\n",
       "      <td>0</td>\n",
       "      <td>4.26</td>\n",
       "    </tr>\n",
       "    <tr>\n",
       "      <th>2</th>\n",
       "      <td>0</td>\n",
       "      <td>4.16</td>\n",
       "    </tr>\n",
       "    <tr>\n",
       "      <th>3</th>\n",
       "      <td>0</td>\n",
       "      <td>3.76</td>\n",
       "    </tr>\n",
       "    <tr>\n",
       "      <th>4</th>\n",
       "      <td>0</td>\n",
       "      <td>4.07</td>\n",
       "    </tr>\n",
       "  </tbody>\n",
       "</table>\n",
       "</div>"
      ],
      "text/plain": [
       "   experience  respiration\n",
       "0           0         3.94\n",
       "1           0         4.26\n",
       "2           0         4.16\n",
       "3           0         3.76\n",
       "4           0         4.07"
      ]
     },
     "execution_count": 14,
     "metadata": {},
     "output_type": "execute_result"
    }
   ],
   "source": [
    "# visualizando os primeiros dados\n",
    "\n",
    "dataset.head()"
   ]
  },
  {
   "cell_type": "code",
   "execution_count": 15,
   "metadata": {},
   "outputs": [
    {
     "data": {
      "text/html": [
       "<div>\n",
       "<style scoped>\n",
       "    .dataframe tbody tr th:only-of-type {\n",
       "        vertical-align: middle;\n",
       "    }\n",
       "\n",
       "    .dataframe tbody tr th {\n",
       "        vertical-align: top;\n",
       "    }\n",
       "\n",
       "    .dataframe thead th {\n",
       "        text-align: right;\n",
       "    }\n",
       "</style>\n",
       "<table border=\"1\" class=\"dataframe\">\n",
       "  <thead>\n",
       "    <tr style=\"text-align: right;\">\n",
       "      <th></th>\n",
       "      <th>experience</th>\n",
       "      <th>respiration</th>\n",
       "    </tr>\n",
       "  </thead>\n",
       "  <tbody>\n",
       "    <tr>\n",
       "      <th>27</th>\n",
       "      <td>3</td>\n",
       "      <td>3.61</td>\n",
       "    </tr>\n",
       "    <tr>\n",
       "      <th>28</th>\n",
       "      <td>3</td>\n",
       "      <td>3.32</td>\n",
       "    </tr>\n",
       "    <tr>\n",
       "      <th>29</th>\n",
       "      <td>3</td>\n",
       "      <td>3.20</td>\n",
       "    </tr>\n",
       "    <tr>\n",
       "      <th>30</th>\n",
       "      <td>3</td>\n",
       "      <td>3.35</td>\n",
       "    </tr>\n",
       "    <tr>\n",
       "      <th>31</th>\n",
       "      <td>3</td>\n",
       "      <td>3.18</td>\n",
       "    </tr>\n",
       "  </tbody>\n",
       "</table>\n",
       "</div>"
      ],
      "text/plain": [
       "    experience  respiration\n",
       "27           3         3.61\n",
       "28           3         3.32\n",
       "29           3         3.20\n",
       "30           3         3.35\n",
       "31           3         3.18"
      ]
     },
     "execution_count": 15,
     "metadata": {},
     "output_type": "execute_result"
    }
   ],
   "source": [
    "# visualizando os ultimos dados\n",
    "\n",
    "dataset.tail()"
   ]
  },
  {
   "cell_type": "code",
   "execution_count": 16,
   "metadata": {},
   "outputs": [],
   "source": [
    "# importando dados \n",
    "\n",
    "dataset2 = pd.read_csv('./data/Winequality-red.csv')"
   ]
  },
  {
   "cell_type": "code",
   "execution_count": 17,
   "metadata": {},
   "outputs": [
    {
     "data": {
      "text/html": [
       "<div>\n",
       "<style scoped>\n",
       "    .dataframe tbody tr th:only-of-type {\n",
       "        vertical-align: middle;\n",
       "    }\n",
       "\n",
       "    .dataframe tbody tr th {\n",
       "        vertical-align: top;\n",
       "    }\n",
       "\n",
       "    .dataframe thead th {\n",
       "        text-align: right;\n",
       "    }\n",
       "</style>\n",
       "<table border=\"1\" class=\"dataframe\">\n",
       "  <thead>\n",
       "    <tr style=\"text-align: right;\">\n",
       "      <th></th>\n",
       "      <th>fixed acidity;\"volatile acidity\";\"citric acid\";\"residual sugar\";\"chlorides\";\"free sulfur dioxide\";\"total sulfur dioxide\";\"density\";\"pH\";\"sulphates\";\"alcohol\";\"quality\"</th>\n",
       "    </tr>\n",
       "  </thead>\n",
       "  <tbody>\n",
       "    <tr>\n",
       "      <th>0</th>\n",
       "      <td>7.4;0.7;0;1.9;0.076;11;34;0.9978;3.51;0.56;9.4;5</td>\n",
       "    </tr>\n",
       "    <tr>\n",
       "      <th>1</th>\n",
       "      <td>7.8;0.88;0;2.6;0.098;25;67;0.9968;3.2;0.68;9.8;5</td>\n",
       "    </tr>\n",
       "    <tr>\n",
       "      <th>2</th>\n",
       "      <td>7.8;0.76;0.04;2.3;0.092;15;54;0.997;3.26;0.65;...</td>\n",
       "    </tr>\n",
       "    <tr>\n",
       "      <th>3</th>\n",
       "      <td>11.2;0.28;0.56;1.9;0.075;17;60;0.998;3.16;0.58...</td>\n",
       "    </tr>\n",
       "    <tr>\n",
       "      <th>4</th>\n",
       "      <td>7.4;0.7;0;1.9;0.076;11;34;0.9978;3.51;0.56;9.4;5</td>\n",
       "    </tr>\n",
       "  </tbody>\n",
       "</table>\n",
       "</div>"
      ],
      "text/plain": [
       "  fixed acidity;\"volatile acidity\";\"citric acid\";\"residual sugar\";\"chlorides\";\"free sulfur dioxide\";\"total sulfur dioxide\";\"density\";\"pH\";\"sulphates\";\"alcohol\";\"quality\"\n",
       "0   7.4;0.7;0;1.9;0.076;11;34;0.9978;3.51;0.56;9.4;5                                                                                                                     \n",
       "1   7.8;0.88;0;2.6;0.098;25;67;0.9968;3.2;0.68;9.8;5                                                                                                                     \n",
       "2  7.8;0.76;0.04;2.3;0.092;15;54;0.997;3.26;0.65;...                                                                                                                     \n",
       "3  11.2;0.28;0.56;1.9;0.075;17;60;0.998;3.16;0.58...                                                                                                                     \n",
       "4   7.4;0.7;0;1.9;0.076;11;34;0.9978;3.51;0.56;9.4;5                                                                                                                     "
      ]
     },
     "execution_count": 17,
     "metadata": {},
     "output_type": "execute_result"
    }
   ],
   "source": [
    "# visualizando os primeiros dados\n",
    "\n",
    "dataset2.head()"
   ]
  },
  {
   "cell_type": "code",
   "execution_count": 18,
   "metadata": {},
   "outputs": [],
   "source": [
    "# alterando os parametros para importação dos dados\n",
    "# delimiter = ';'\n",
    "\n",
    "dataset2 = pd.read_csv('./data/Winequality-red.csv', sep=';')"
   ]
  },
  {
   "cell_type": "code",
   "execution_count": 19,
   "metadata": {},
   "outputs": [
    {
     "data": {
      "text/html": [
       "<div>\n",
       "<style scoped>\n",
       "    .dataframe tbody tr th:only-of-type {\n",
       "        vertical-align: middle;\n",
       "    }\n",
       "\n",
       "    .dataframe tbody tr th {\n",
       "        vertical-align: top;\n",
       "    }\n",
       "\n",
       "    .dataframe thead th {\n",
       "        text-align: right;\n",
       "    }\n",
       "</style>\n",
       "<table border=\"1\" class=\"dataframe\">\n",
       "  <thead>\n",
       "    <tr style=\"text-align: right;\">\n",
       "      <th></th>\n",
       "      <th>fixed acidity</th>\n",
       "      <th>volatile acidity</th>\n",
       "      <th>citric acid</th>\n",
       "      <th>residual sugar</th>\n",
       "      <th>chlorides</th>\n",
       "      <th>free sulfur dioxide</th>\n",
       "      <th>total sulfur dioxide</th>\n",
       "      <th>density</th>\n",
       "      <th>pH</th>\n",
       "      <th>sulphates</th>\n",
       "      <th>alcohol</th>\n",
       "      <th>quality</th>\n",
       "    </tr>\n",
       "  </thead>\n",
       "  <tbody>\n",
       "    <tr>\n",
       "      <th>0</th>\n",
       "      <td>7.4</td>\n",
       "      <td>0.70</td>\n",
       "      <td>0.00</td>\n",
       "      <td>1.9</td>\n",
       "      <td>0.076</td>\n",
       "      <td>11.0</td>\n",
       "      <td>34.0</td>\n",
       "      <td>0.9978</td>\n",
       "      <td>3.51</td>\n",
       "      <td>0.56</td>\n",
       "      <td>9.4</td>\n",
       "      <td>5</td>\n",
       "    </tr>\n",
       "    <tr>\n",
       "      <th>1</th>\n",
       "      <td>7.8</td>\n",
       "      <td>0.88</td>\n",
       "      <td>0.00</td>\n",
       "      <td>2.6</td>\n",
       "      <td>0.098</td>\n",
       "      <td>25.0</td>\n",
       "      <td>67.0</td>\n",
       "      <td>0.9968</td>\n",
       "      <td>3.20</td>\n",
       "      <td>0.68</td>\n",
       "      <td>9.8</td>\n",
       "      <td>5</td>\n",
       "    </tr>\n",
       "    <tr>\n",
       "      <th>2</th>\n",
       "      <td>7.8</td>\n",
       "      <td>0.76</td>\n",
       "      <td>0.04</td>\n",
       "      <td>2.3</td>\n",
       "      <td>0.092</td>\n",
       "      <td>15.0</td>\n",
       "      <td>54.0</td>\n",
       "      <td>0.9970</td>\n",
       "      <td>3.26</td>\n",
       "      <td>0.65</td>\n",
       "      <td>9.8</td>\n",
       "      <td>5</td>\n",
       "    </tr>\n",
       "    <tr>\n",
       "      <th>3</th>\n",
       "      <td>11.2</td>\n",
       "      <td>0.28</td>\n",
       "      <td>0.56</td>\n",
       "      <td>1.9</td>\n",
       "      <td>0.075</td>\n",
       "      <td>17.0</td>\n",
       "      <td>60.0</td>\n",
       "      <td>0.9980</td>\n",
       "      <td>3.16</td>\n",
       "      <td>0.58</td>\n",
       "      <td>9.8</td>\n",
       "      <td>6</td>\n",
       "    </tr>\n",
       "    <tr>\n",
       "      <th>4</th>\n",
       "      <td>7.4</td>\n",
       "      <td>0.70</td>\n",
       "      <td>0.00</td>\n",
       "      <td>1.9</td>\n",
       "      <td>0.076</td>\n",
       "      <td>11.0</td>\n",
       "      <td>34.0</td>\n",
       "      <td>0.9978</td>\n",
       "      <td>3.51</td>\n",
       "      <td>0.56</td>\n",
       "      <td>9.4</td>\n",
       "      <td>5</td>\n",
       "    </tr>\n",
       "  </tbody>\n",
       "</table>\n",
       "</div>"
      ],
      "text/plain": [
       "   fixed acidity  volatile acidity  citric acid  residual sugar  chlorides  \\\n",
       "0            7.4              0.70         0.00             1.9      0.076   \n",
       "1            7.8              0.88         0.00             2.6      0.098   \n",
       "2            7.8              0.76         0.04             2.3      0.092   \n",
       "3           11.2              0.28         0.56             1.9      0.075   \n",
       "4            7.4              0.70         0.00             1.9      0.076   \n",
       "\n",
       "   free sulfur dioxide  total sulfur dioxide  density    pH  sulphates  \\\n",
       "0                 11.0                  34.0   0.9978  3.51       0.56   \n",
       "1                 25.0                  67.0   0.9968  3.20       0.68   \n",
       "2                 15.0                  54.0   0.9970  3.26       0.65   \n",
       "3                 17.0                  60.0   0.9980  3.16       0.58   \n",
       "4                 11.0                  34.0   0.9978  3.51       0.56   \n",
       "\n",
       "   alcohol  quality  \n",
       "0      9.4        5  \n",
       "1      9.8        5  \n",
       "2      9.8        5  \n",
       "3      9.8        6  \n",
       "4      9.4        5  "
      ]
     },
     "execution_count": 19,
     "metadata": {},
     "output_type": "execute_result"
    }
   ],
   "source": [
    "# visualizando os primeiros dados\n",
    "\n",
    "dataset2.head()"
   ]
  },
  {
   "cell_type": "code",
   "execution_count": 20,
   "metadata": {},
   "outputs": [],
   "source": [
    "# alterando os parametros para importação dos dados\n",
    "# delimiter = '\\t'\n",
    "\n",
    "dataset2 = pd.read_csv('./data/bostonTxt.txt', sep='\\t')"
   ]
  },
  {
   "cell_type": "code",
   "execution_count": 21,
   "metadata": {},
   "outputs": [
    {
     "data": {
      "text/html": [
       "<div>\n",
       "<style scoped>\n",
       "    .dataframe tbody tr th:only-of-type {\n",
       "        vertical-align: middle;\n",
       "    }\n",
       "\n",
       "    .dataframe tbody tr th {\n",
       "        vertical-align: top;\n",
       "    }\n",
       "\n",
       "    .dataframe thead th {\n",
       "        text-align: right;\n",
       "    }\n",
       "</style>\n",
       "<table border=\"1\" class=\"dataframe\">\n",
       "  <thead>\n",
       "    <tr style=\"text-align: right;\">\n",
       "      <th></th>\n",
       "      <th>MV</th>\n",
       "      <th>INDUS</th>\n",
       "      <th>NOX</th>\n",
       "      <th>RM</th>\n",
       "      <th>TAX</th>\n",
       "      <th>PT</th>\n",
       "      <th>LSTAT</th>\n",
       "    </tr>\n",
       "  </thead>\n",
       "  <tbody>\n",
       "    <tr>\n",
       "      <th>0</th>\n",
       "      <td>24.0</td>\n",
       "      <td>2.31</td>\n",
       "      <td>53.8</td>\n",
       "      <td>6.575</td>\n",
       "      <td>296</td>\n",
       "      <td>15.3</td>\n",
       "      <td>4.98</td>\n",
       "    </tr>\n",
       "    <tr>\n",
       "      <th>1</th>\n",
       "      <td>21.6</td>\n",
       "      <td>7.07</td>\n",
       "      <td>46.9</td>\n",
       "      <td>6.421</td>\n",
       "      <td>242</td>\n",
       "      <td>17.8</td>\n",
       "      <td>9.14</td>\n",
       "    </tr>\n",
       "    <tr>\n",
       "      <th>2</th>\n",
       "      <td>34.7</td>\n",
       "      <td>7.07</td>\n",
       "      <td>46.9</td>\n",
       "      <td>7.185</td>\n",
       "      <td>242</td>\n",
       "      <td>17.8</td>\n",
       "      <td>4.03</td>\n",
       "    </tr>\n",
       "    <tr>\n",
       "      <th>3</th>\n",
       "      <td>33.4</td>\n",
       "      <td>2.18</td>\n",
       "      <td>45.8</td>\n",
       "      <td>6.998</td>\n",
       "      <td>222</td>\n",
       "      <td>18.7</td>\n",
       "      <td>2.94</td>\n",
       "    </tr>\n",
       "    <tr>\n",
       "      <th>4</th>\n",
       "      <td>36.2</td>\n",
       "      <td>2.18</td>\n",
       "      <td>45.8</td>\n",
       "      <td>7.147</td>\n",
       "      <td>222</td>\n",
       "      <td>18.7</td>\n",
       "      <td>5.33</td>\n",
       "    </tr>\n",
       "  </tbody>\n",
       "</table>\n",
       "</div>"
      ],
      "text/plain": [
       "     MV  INDUS   NOX     RM  TAX    PT  LSTAT\n",
       "0  24.0   2.31  53.8  6.575  296  15.3   4.98\n",
       "1  21.6   7.07  46.9  6.421  242  17.8   9.14\n",
       "2  34.7   7.07  46.9  7.185  242  17.8   4.03\n",
       "3  33.4   2.18  45.8  6.998  222  18.7   2.94\n",
       "4  36.2   2.18  45.8  7.147  222  18.7   5.33"
      ]
     },
     "execution_count": 21,
     "metadata": {},
     "output_type": "execute_result"
    }
   ],
   "source": [
    "# visualizando os primeiros dados\n",
    "\n",
    "dataset2.head()"
   ]
  },
  {
   "cell_type": "code",
   "execution_count": 22,
   "metadata": {},
   "outputs": [],
   "source": [
    "# importando dados de um arquivo Excel\n",
    "\n",
    "dataset2 = pd.ExcelFile('./data/boston1.xls')"
   ]
  },
  {
   "cell_type": "code",
   "execution_count": 23,
   "metadata": {},
   "outputs": [
    {
     "name": "stdout",
     "output_type": "stream",
     "text": [
      "['Sheet1', 'Sheet2']\n"
     ]
    }
   ],
   "source": [
    "# visualizando quantidade de planilhas do arquivo\n",
    "\n",
    "print(dataset2.sheet_names)"
   ]
  },
  {
   "cell_type": "code",
   "execution_count": 24,
   "metadata": {},
   "outputs": [
    {
     "data": {
      "text/html": [
       "<div>\n",
       "<style scoped>\n",
       "    .dataframe tbody tr th:only-of-type {\n",
       "        vertical-align: middle;\n",
       "    }\n",
       "\n",
       "    .dataframe tbody tr th {\n",
       "        vertical-align: top;\n",
       "    }\n",
       "\n",
       "    .dataframe thead th {\n",
       "        text-align: right;\n",
       "    }\n",
       "</style>\n",
       "<table border=\"1\" class=\"dataframe\">\n",
       "  <thead>\n",
       "    <tr style=\"text-align: right;\">\n",
       "      <th></th>\n",
       "      <th>MV</th>\n",
       "      <th>INDUS</th>\n",
       "      <th>NOX</th>\n",
       "      <th>RM</th>\n",
       "      <th>TAX</th>\n",
       "      <th>PT</th>\n",
       "      <th>LSTAT</th>\n",
       "    </tr>\n",
       "  </thead>\n",
       "  <tbody>\n",
       "    <tr>\n",
       "      <th>0</th>\n",
       "      <td>24.0</td>\n",
       "      <td>2.31</td>\n",
       "      <td>53.8</td>\n",
       "      <td>6.575</td>\n",
       "      <td>296</td>\n",
       "      <td>15.3</td>\n",
       "      <td>4.98</td>\n",
       "    </tr>\n",
       "    <tr>\n",
       "      <th>1</th>\n",
       "      <td>21.6</td>\n",
       "      <td>7.07</td>\n",
       "      <td>46.9</td>\n",
       "      <td>6.421</td>\n",
       "      <td>242</td>\n",
       "      <td>17.8</td>\n",
       "      <td>9.14</td>\n",
       "    </tr>\n",
       "    <tr>\n",
       "      <th>2</th>\n",
       "      <td>34.7</td>\n",
       "      <td>7.07</td>\n",
       "      <td>46.9</td>\n",
       "      <td>7.185</td>\n",
       "      <td>242</td>\n",
       "      <td>17.8</td>\n",
       "      <td>4.03</td>\n",
       "    </tr>\n",
       "    <tr>\n",
       "      <th>3</th>\n",
       "      <td>33.4</td>\n",
       "      <td>2.18</td>\n",
       "      <td>45.8</td>\n",
       "      <td>6.998</td>\n",
       "      <td>222</td>\n",
       "      <td>18.7</td>\n",
       "      <td>2.94</td>\n",
       "    </tr>\n",
       "    <tr>\n",
       "      <th>4</th>\n",
       "      <td>36.2</td>\n",
       "      <td>2.18</td>\n",
       "      <td>45.8</td>\n",
       "      <td>7.147</td>\n",
       "      <td>222</td>\n",
       "      <td>18.7</td>\n",
       "      <td>5.33</td>\n",
       "    </tr>\n",
       "  </tbody>\n",
       "</table>\n",
       "</div>"
      ],
      "text/plain": [
       "     MV  INDUS   NOX     RM  TAX    PT  LSTAT\n",
       "0  24.0   2.31  53.8  6.575  296  15.3   4.98\n",
       "1  21.6   7.07  46.9  6.421  242  17.8   9.14\n",
       "2  34.7   7.07  46.9  7.185  242  17.8   4.03\n",
       "3  33.4   2.18  45.8  6.998  222  18.7   2.94\n",
       "4  36.2   2.18  45.8  7.147  222  18.7   5.33"
      ]
     },
     "execution_count": 24,
     "metadata": {},
     "output_type": "execute_result"
    }
   ],
   "source": [
    "# transformando planilha 2 em dataframe e visualizando os primeiros dados\n",
    "\n",
    "dataset21 =dataset2.parse('Sheet2')\n",
    "dataset21.head()"
   ]
  },
  {
   "cell_type": "code",
   "execution_count": 25,
   "metadata": {},
   "outputs": [],
   "source": [
    "# importando dados HTML\n",
    "\n",
    "dataset2 = pd.read_html('https://pt.wikipedia.org/wiki/Unidades_federativas_do_Brasil')"
   ]
  },
  {
   "cell_type": "code",
   "execution_count": 26,
   "metadata": {},
   "outputs": [
    {
     "name": "stdout",
     "output_type": "stream",
     "text": [
      "<class 'list'>\n"
     ]
    }
   ],
   "source": [
    "# imprimindo o tipo de dados\n",
    "\n",
    "print(type(dataset2))"
   ]
  },
  {
   "cell_type": "code",
   "execution_count": 27,
   "metadata": {},
   "outputs": [
    {
     "name": "stdout",
     "output_type": "stream",
     "text": [
      "               0                                                  1  \\\n",
      "0     Capítulo I             Da Organização Político-Administrativa   \n",
      "1    Capítulo II                                           Da União   \n",
      "2   Capítulo III                              Dos Estados Federados   \n",
      "3    Capítulo IV                                     Dos Municípios   \n",
      "4     Capítulo V              Do Distrito Federal e dos Territórios   \n",
      "5        Seção I                                Do Distrito Federal   \n",
      "6       Seção II                                    Dos Territórios   \n",
      "7    Capítulo VI                                     Da Intervenção   \n",
      "8   Capítulo VII                           Da Administração Pública   \n",
      "9        Seção I                                 Disposições Gerais   \n",
      "10      Seção II                            Dos Servidores Públicos   \n",
      "11     Seção III  Dos Militares dos Estados, do Distrito Federal...   \n",
      "12      Seção IV                                        Das Regiões   \n",
      "\n",
      "             2  \n",
      "0   art. 18-19  \n",
      "1   art. 20-24  \n",
      "2   art. 25-28  \n",
      "3   art. 29-31  \n",
      "4   art. 32-33  \n",
      "5      art. 32  \n",
      "6      art. 33  \n",
      "7   art. 34-36  \n",
      "8   art. 37-43  \n",
      "9   art. 37-38  \n",
      "10  art. 39-41  \n",
      "11     art. 42  \n",
      "12     art. 43  \n"
     ]
    }
   ],
   "source": [
    "# imprimindo o conteudo da lista\n",
    "\n",
    "a = dataset2[0]\n",
    "print(a)"
   ]
  },
  {
   "cell_type": "code",
   "execution_count": 28,
   "metadata": {},
   "outputs": [
    {
     "name": "stdout",
     "output_type": "stream",
     "text": [
      "    Posição            Nome do banco   Cidade sede  \\\n",
      "0         1            Itaú Unibanco     São Paulo   \n",
      "1         2          Banco do Brasil      Brasília   \n",
      "2         3  Caixa Econômica Federal      Brasília   \n",
      "3         4                 Bradesco        Osasco   \n",
      "4         5         Santander Brasil     São Paulo   \n",
      "5         6              BTG Pactual     São Paulo   \n",
      "6         7              Banco Safra     São Paulo   \n",
      "7         8                   Sicoob      Brasília   \n",
      "8         9         Banco Votorantim     São Paulo   \n",
      "9        10          Citibank Brasil     São Paulo   \n",
      "10       11                 Banrisul  Porto Alegre   \n",
      "11       12        Banco do Nordeste     Fortaleza   \n",
      "\n",
      "   Ativos totais em R$ (bilhões)    Data dos dados  País de origem  \n",
      "0                       1.739[1]  Dezembro de 2019          Brasil  \n",
      "1                       1.540[2]  Dezembro de 2019          Brasil  \n",
      "2                       1.293[3]  Dezembro de 2019          Brasil  \n",
      "3                       1.152[4]  Dezembro de 2019          Brasil  \n",
      "4                       839,8[5]  Dezembro de 2019         Espanha  \n",
      "5                       176,6[6]  Dezembro de 2019          Brasil  \n",
      "6                       167,5[7]  Dezembro de 2019          Brasil  \n",
      "7                       117,2[6]  Dezembro de 2019          Brasil  \n",
      "8                        88,8[8]  Dezembro de 2019          Brasil  \n",
      "9                        88,5[9]  Dezembro de 2019  Estados Unidos  \n",
      "10                      80,9[10]  Dezembro de 2019          Brasil  \n",
      "11                      58,6[11]  Dezembro de 2019          Brasil  \n"
     ]
    }
   ],
   "source": [
    "# imprimindo primeira tabela da lista\n",
    "\n",
    "bcs = pd.read_html('https://pt.wikipedia.org/wiki/Lista_dos_maiores_bancos_do_Brasil')\n",
    "bcs = bcs[1]\n",
    "print(bcs)"
   ]
  },
  {
   "cell_type": "code",
   "execution_count": 29,
   "metadata": {},
   "outputs": [],
   "source": [
    "# importando dados de um arquivo JSON\n",
    "\n",
    "with open('./data/skorea.json') as json_file:\n",
    "    data = json.load(json_file)"
   ]
  },
  {
   "cell_type": "code",
   "execution_count": 30,
   "metadata": {},
   "outputs": [
    {
     "data": {
      "text/plain": [
       "[{'Description': '',\n",
       "  'Image': '/wiki/File:MuryeongsTomb.jpg',\n",
       "  'Criteria': 'Cultural: (ii)(iii)',\n",
       "  'Site': 'Baekje Historic Areas',\n",
       "  'Area ha (acre)': '135 (330)',\n",
       "  'Location': 'South Chungcheong, North Jeolla',\n",
       "  'Year': '2015'},\n",
       " {'Description': '',\n",
       "  'Image': '/wiki/File:Korea-Gwangju-Gochang_Dolmens_5350-06.JPG',\n",
       "  'Criteria': 'Cultural: (iii)',\n",
       "  'Site': 'Gochang, Hwasun and Ganghwa Dolmen Sites',\n",
       "  'Area ha (acre)': '',\n",
       "  'Location': 'Incheon, North Jeolla, South Jeolla',\n",
       "  'Year': '2000'},\n",
       " {'Description': '',\n",
       "  'Image': '/wiki/File:Juhamnu,_Changdeokgung_-_Seoul,_Korea.JPG',\n",
       "  'Criteria': 'Cultural: (ii)(iii)(iv)',\n",
       "  'Site': 'Changdeokgung Palace Complex',\n",
       "  'Area ha (acre)': '',\n",
       "  'Location': 'Seoul',\n",
       "  'Year': '1997'},\n",
       " {'Description': '',\n",
       "  'Image': '/wiki/File:Korea-Gyeongju-Bunhwangsa-Lanterns-03.jpg',\n",
       "  'Criteria': 'Cultural: (ii)(iii)',\n",
       "  'Site': 'Gyeongju Historic Areas',\n",
       "  'Area ha (acre)': '2,880 (7,100)',\n",
       "  'Location': 'North Gyeongsang',\n",
       "  'Year': '2000'},\n",
       " {'Description': '',\n",
       "  'Image': '/wiki/File:Haeinsa_Temple_(6222053899).jpg',\n",
       "  'Criteria': 'Cultural: (iv)(vi)',\n",
       "  'Site': 'Haeinsa Temple Janggyeong Panjeon, the Depositories for the Tripitaka Koreana Woodblocks',\n",
       "  'Area ha (acre)': '',\n",
       "  'Location': 'South Gyeongsang',\n",
       "  'Year': '1995'},\n",
       " {'Description': '',\n",
       "  'Image': '/wiki/File:Hahoe_8784.jpg',\n",
       "  'Criteria': 'Cultural: (iii)(iv)',\n",
       "  'Site': 'Historic Villages of Korea: Hahoe and Yangdong',\n",
       "  'Area ha (acre)': '600 (1,500)',\n",
       "  'Location': 'North Gyeongsang',\n",
       "  'Year': '2010'},\n",
       " {'Description': '',\n",
       "  'Image': '/wiki/File:Hwaseong2.jpg',\n",
       "  'Criteria': 'Cultural: (ii)(iii)',\n",
       "  'Site': 'Hwaseong Fortress',\n",
       "  'Area ha (acre)': '',\n",
       "  'Location': 'Gyeonggi',\n",
       "  'Year': '1997'},\n",
       " {'Description': '',\n",
       "  'Image': '/wiki/File:KOCIS_Halla_Mountain_in_Jeju-do_(6387785543).jpg',\n",
       "  'Criteria': 'Natural: (vii)(viii)',\n",
       "  'Site': 'Jeju Volcanic Island and Lava Tubes',\n",
       "  'Area ha (acre)': '9,475 (23,410)',\n",
       "  'Location': 'Jeju',\n",
       "  'Year': '2007'},\n",
       " {'Description': '',\n",
       "  'Image': '/wiki/File:Chongmyo_repository_(1509268349).jpg',\n",
       "  'Criteria': 'Cultural: (iv)',\n",
       "  'Site': 'Jongmyo Shrine',\n",
       "  'Area ha (acre)': '19 (47)',\n",
       "  'Location': 'Seoul',\n",
       "  'Year': '1995'},\n",
       " {'Description': '',\n",
       "  'Image': '/wiki/File:Khitai5.jpg',\n",
       "  'Criteria': 'Cultural: (ii)(iv)',\n",
       "  'Site': 'Namhansanseong',\n",
       "  'Area ha (acre)': '409 (1,010)',\n",
       "  'Location': 'Gyeonggi',\n",
       "  'Year': '2014'},\n",
       " {'Description': '',\n",
       "  'Image': '/wiki/File:Sejong_tomb_1.jpg',\n",
       "  'Criteria': 'Cultural: (iii)(iv)(vi)',\n",
       "  'Site': 'Royal Tombs of the Joseon Dynasty',\n",
       "  'Area ha (acre)': '1,891 (4,670)',\n",
       "  'Location': 'Gyeonggi, Seoul',\n",
       "  'Year': '2009'},\n",
       " {'Description': '',\n",
       "  'Image': '/wiki/File:Bulguk_Tempel.jpg',\n",
       "  'Criteria': 'Cultural: (i)(iv)',\n",
       "  'Site': 'Seokguram Grotto and Bulguksa Temple',\n",
       "  'Area ha (acre)': '',\n",
       "  'Location': 'North Gyeongsang',\n",
       "  'Year': '1995'}]"
      ]
     },
     "execution_count": 30,
     "metadata": {},
     "output_type": "execute_result"
    }
   ],
   "source": [
    "# visualizando os dados\n",
    "\n",
    "data"
   ]
  },
  {
   "cell_type": "code",
   "execution_count": 31,
   "metadata": {},
   "outputs": [],
   "source": [
    "# trasnformando os dados em dataframe\n",
    "\n",
    "data = pd.DataFrame(data)"
   ]
  },
  {
   "cell_type": "code",
   "execution_count": 32,
   "metadata": {},
   "outputs": [
    {
     "data": {
      "text/html": [
       "<div>\n",
       "<style scoped>\n",
       "    .dataframe tbody tr th:only-of-type {\n",
       "        vertical-align: middle;\n",
       "    }\n",
       "\n",
       "    .dataframe tbody tr th {\n",
       "        vertical-align: top;\n",
       "    }\n",
       "\n",
       "    .dataframe thead th {\n",
       "        text-align: right;\n",
       "    }\n",
       "</style>\n",
       "<table border=\"1\" class=\"dataframe\">\n",
       "  <thead>\n",
       "    <tr style=\"text-align: right;\">\n",
       "      <th></th>\n",
       "      <th>Description</th>\n",
       "      <th>Image</th>\n",
       "      <th>Criteria</th>\n",
       "      <th>Site</th>\n",
       "      <th>Area ha (acre)</th>\n",
       "      <th>Location</th>\n",
       "      <th>Year</th>\n",
       "    </tr>\n",
       "  </thead>\n",
       "  <tbody>\n",
       "    <tr>\n",
       "      <th>0</th>\n",
       "      <td></td>\n",
       "      <td>/wiki/File:MuryeongsTomb.jpg</td>\n",
       "      <td>Cultural: (ii)(iii)</td>\n",
       "      <td>Baekje Historic Areas</td>\n",
       "      <td>135 (330)</td>\n",
       "      <td>South Chungcheong, North Jeolla</td>\n",
       "      <td>2015</td>\n",
       "    </tr>\n",
       "    <tr>\n",
       "      <th>1</th>\n",
       "      <td></td>\n",
       "      <td>/wiki/File:Korea-Gwangju-Gochang_Dolmens_5350-...</td>\n",
       "      <td>Cultural: (iii)</td>\n",
       "      <td>Gochang, Hwasun and Ganghwa Dolmen Sites</td>\n",
       "      <td></td>\n",
       "      <td>Incheon, North Jeolla, South Jeolla</td>\n",
       "      <td>2000</td>\n",
       "    </tr>\n",
       "    <tr>\n",
       "      <th>2</th>\n",
       "      <td></td>\n",
       "      <td>/wiki/File:Juhamnu,_Changdeokgung_-_Seoul,_Kor...</td>\n",
       "      <td>Cultural: (ii)(iii)(iv)</td>\n",
       "      <td>Changdeokgung Palace Complex</td>\n",
       "      <td></td>\n",
       "      <td>Seoul</td>\n",
       "      <td>1997</td>\n",
       "    </tr>\n",
       "    <tr>\n",
       "      <th>3</th>\n",
       "      <td></td>\n",
       "      <td>/wiki/File:Korea-Gyeongju-Bunhwangsa-Lanterns-...</td>\n",
       "      <td>Cultural: (ii)(iii)</td>\n",
       "      <td>Gyeongju Historic Areas</td>\n",
       "      <td>2,880 (7,100)</td>\n",
       "      <td>North Gyeongsang</td>\n",
       "      <td>2000</td>\n",
       "    </tr>\n",
       "    <tr>\n",
       "      <th>4</th>\n",
       "      <td></td>\n",
       "      <td>/wiki/File:Haeinsa_Temple_(6222053899).jpg</td>\n",
       "      <td>Cultural: (iv)(vi)</td>\n",
       "      <td>Haeinsa Temple Janggyeong Panjeon, the Deposit...</td>\n",
       "      <td></td>\n",
       "      <td>South Gyeongsang</td>\n",
       "      <td>1995</td>\n",
       "    </tr>\n",
       "  </tbody>\n",
       "</table>\n",
       "</div>"
      ],
      "text/plain": [
       "  Description                                              Image  \\\n",
       "0                                   /wiki/File:MuryeongsTomb.jpg   \n",
       "1              /wiki/File:Korea-Gwangju-Gochang_Dolmens_5350-...   \n",
       "2              /wiki/File:Juhamnu,_Changdeokgung_-_Seoul,_Kor...   \n",
       "3              /wiki/File:Korea-Gyeongju-Bunhwangsa-Lanterns-...   \n",
       "4                     /wiki/File:Haeinsa_Temple_(6222053899).jpg   \n",
       "\n",
       "                  Criteria                                               Site  \\\n",
       "0      Cultural: (ii)(iii)                              Baekje Historic Areas   \n",
       "1          Cultural: (iii)           Gochang, Hwasun and Ganghwa Dolmen Sites   \n",
       "2  Cultural: (ii)(iii)(iv)                       Changdeokgung Palace Complex   \n",
       "3      Cultural: (ii)(iii)                            Gyeongju Historic Areas   \n",
       "4       Cultural: (iv)(vi)  Haeinsa Temple Janggyeong Panjeon, the Deposit...   \n",
       "\n",
       "  Area ha (acre)                             Location  Year  \n",
       "0      135 (330)      South Chungcheong, North Jeolla  2015  \n",
       "1                 Incheon, North Jeolla, South Jeolla  2000  \n",
       "2                                               Seoul  1997  \n",
       "3  2,880 (7,100)                     North Gyeongsang  2000  \n",
       "4                                    South Gyeongsang  1995  "
      ]
     },
     "execution_count": 32,
     "metadata": {},
     "output_type": "execute_result"
    }
   ],
   "source": [
    "# visualizando os dados do dataframe\n",
    "\n",
    "data.head()"
   ]
  }
 ],
 "metadata": {
  "interpreter": {
   "hash": "ad2bdc8ecc057115af97d19610ffacc2b4e99fae6737bb82f5d7fb13d2f2c186"
  },
  "kernelspec": {
   "display_name": "Python 3.8.8 ('base')",
   "language": "python",
   "name": "python3"
  },
  "language_info": {
   "codemirror_mode": {
    "name": "ipython",
    "version": 3
   },
   "file_extension": ".py",
   "mimetype": "text/x-python",
   "name": "python",
   "nbconvert_exporter": "python",
   "pygments_lexer": "ipython3",
   "version": "3.8.8"
  },
  "orig_nbformat": 4
 },
 "nbformat": 4,
 "nbformat_minor": 2
}
