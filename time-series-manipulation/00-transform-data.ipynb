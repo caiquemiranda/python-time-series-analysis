{
 "cells": [
  {
   "cell_type": "code",
   "execution_count": 1,
   "metadata": {},
   "outputs": [],
   "source": [
    "import pandas as pd"
   ]
  },
  {
   "cell_type": "code",
   "execution_count": 4,
   "metadata": {},
   "outputs": [],
   "source": [
    "aapl = pd.read_csv('./data/AAPL-5Y.csv', parse_dates=['Date'], index_col='Date')\n",
    "amzn = pd.read_csv('./data/AMZN-5Y.csv', parse_dates=['Date'], index_col='Date')\n",
    "goog = pd.read_csv('./data/GOOG-5Y.csv', parse_dates=['Date'], index_col='Date')\n",
    "bvsp = pd.read_csv('./data/^BVSP-5Y.csv', parse_dates=['Date'], index_col='Date')"
   ]
  },
  {
   "cell_type": "code",
   "execution_count": 5,
   "metadata": {},
   "outputs": [
    {
     "name": "stdout",
     "output_type": "stream",
     "text": [
      "<class 'pandas.core.frame.DataFrame'>\n",
      "DatetimeIndex: 1259 entries, 2017-05-31 to 2022-05-27\n",
      "Data columns (total 6 columns):\n",
      " #   Column     Non-Null Count  Dtype  \n",
      "---  ------     --------------  -----  \n",
      " 0   Open       1259 non-null   float64\n",
      " 1   High       1259 non-null   float64\n",
      " 2   Low        1259 non-null   float64\n",
      " 3   Close      1259 non-null   float64\n",
      " 4   Adj Close  1259 non-null   float64\n",
      " 5   Volume     1259 non-null   int64  \n",
      "dtypes: float64(5), int64(1)\n",
      "memory usage: 68.9 KB\n"
     ]
    }
   ],
   "source": [
    "aapl.info()"
   ]
  },
  {
   "cell_type": "code",
   "execution_count": 6,
   "metadata": {},
   "outputs": [],
   "source": [
    "#join em dataframes"
   ]
  },
  {
   "cell_type": "code",
   "execution_count": 7,
   "metadata": {},
   "outputs": [
    {
     "data": {
      "text/html": [
       "<div>\n",
       "<style scoped>\n",
       "    .dataframe tbody tr th:only-of-type {\n",
       "        vertical-align: middle;\n",
       "    }\n",
       "\n",
       "    .dataframe tbody tr th {\n",
       "        vertical-align: top;\n",
       "    }\n",
       "\n",
       "    .dataframe thead th {\n",
       "        text-align: right;\n",
       "    }\n",
       "</style>\n",
       "<table border=\"1\" class=\"dataframe\">\n",
       "  <thead>\n",
       "    <tr style=\"text-align: right;\">\n",
       "      <th></th>\n",
       "      <th>AAPL</th>\n",
       "      <th>AMZN</th>\n",
       "      <th>GOOG</th>\n",
       "      <th>BVSP</th>\n",
       "    </tr>\n",
       "    <tr>\n",
       "      <th>Date</th>\n",
       "      <th></th>\n",
       "      <th></th>\n",
       "      <th></th>\n",
       "      <th></th>\n",
       "    </tr>\n",
       "  </thead>\n",
       "  <tbody>\n",
       "    <tr>\n",
       "      <th>2017-05-31</th>\n",
       "      <td>36.153183</td>\n",
       "      <td>994.619995</td>\n",
       "      <td>964.859985</td>\n",
       "      <td>62711.0</td>\n",
       "    </tr>\n",
       "    <tr>\n",
       "      <th>2017-06-01</th>\n",
       "      <td>36.252583</td>\n",
       "      <td>995.950012</td>\n",
       "      <td>966.950012</td>\n",
       "      <td>62289.0</td>\n",
       "    </tr>\n",
       "    <tr>\n",
       "      <th>2017-06-02</th>\n",
       "      <td>36.789818</td>\n",
       "      <td>1006.729980</td>\n",
       "      <td>975.599976</td>\n",
       "      <td>62511.0</td>\n",
       "    </tr>\n",
       "    <tr>\n",
       "      <th>2017-06-05</th>\n",
       "      <td>36.430080</td>\n",
       "      <td>1011.340027</td>\n",
       "      <td>983.679993</td>\n",
       "      <td>62450.0</td>\n",
       "    </tr>\n",
       "    <tr>\n",
       "      <th>2017-06-06</th>\n",
       "      <td>36.553146</td>\n",
       "      <td>1003.000000</td>\n",
       "      <td>976.570007</td>\n",
       "      <td>62955.0</td>\n",
       "    </tr>\n",
       "    <tr>\n",
       "      <th>...</th>\n",
       "      <td>...</td>\n",
       "      <td>...</td>\n",
       "      <td>...</td>\n",
       "      <td>...</td>\n",
       "    </tr>\n",
       "    <tr>\n",
       "      <th>2022-05-23</th>\n",
       "      <td>143.110001</td>\n",
       "      <td>2151.139893</td>\n",
       "      <td>2233.330078</td>\n",
       "      <td>110346.0</td>\n",
       "    </tr>\n",
       "    <tr>\n",
       "      <th>2022-05-24</th>\n",
       "      <td>140.360001</td>\n",
       "      <td>2082.000000</td>\n",
       "      <td>2118.520020</td>\n",
       "      <td>110581.0</td>\n",
       "    </tr>\n",
       "    <tr>\n",
       "      <th>2022-05-25</th>\n",
       "      <td>140.520004</td>\n",
       "      <td>2135.500000</td>\n",
       "      <td>2116.790039</td>\n",
       "      <td>110580.0</td>\n",
       "    </tr>\n",
       "    <tr>\n",
       "      <th>2022-05-26</th>\n",
       "      <td>143.779999</td>\n",
       "      <td>2221.550049</td>\n",
       "      <td>2165.919922</td>\n",
       "      <td>111890.0</td>\n",
       "    </tr>\n",
       "    <tr>\n",
       "      <th>2022-05-27</th>\n",
       "      <td>149.639999</td>\n",
       "      <td>2302.929932</td>\n",
       "      <td>2255.979980</td>\n",
       "      <td>111942.0</td>\n",
       "    </tr>\n",
       "  </tbody>\n",
       "</table>\n",
       "<p>1259 rows × 4 columns</p>\n",
       "</div>"
      ],
      "text/plain": [
       "                  AAPL         AMZN         GOOG      BVSP\n",
       "Date                                                      \n",
       "2017-05-31   36.153183   994.619995   964.859985   62711.0\n",
       "2017-06-01   36.252583   995.950012   966.950012   62289.0\n",
       "2017-06-02   36.789818  1006.729980   975.599976   62511.0\n",
       "2017-06-05   36.430080  1011.340027   983.679993   62450.0\n",
       "2017-06-06   36.553146  1003.000000   976.570007   62955.0\n",
       "...                ...          ...          ...       ...\n",
       "2022-05-23  143.110001  2151.139893  2233.330078  110346.0\n",
       "2022-05-24  140.360001  2082.000000  2118.520020  110581.0\n",
       "2022-05-25  140.520004  2135.500000  2116.790039  110580.0\n",
       "2022-05-26  143.779999  2221.550049  2165.919922  111890.0\n",
       "2022-05-27  149.639999  2302.929932  2255.979980  111942.0\n",
       "\n",
       "[1259 rows x 4 columns]"
      ]
     },
     "execution_count": 7,
     "metadata": {},
     "output_type": "execute_result"
    }
   ],
   "source": [
    "stocks_price = aapl.copy()\n",
    "stocks_price.drop(['Open', 'High', 'Low', 'Close', 'Volume'], axis=1, inplace=True)\n",
    "stocks_price['AMZN'] = amzn['Adj Close']\n",
    "stocks_price['GOOG'] = goog['Adj Close']\n",
    "stocks_price['BVSP'] = bvsp['Adj Close']\n",
    "stocks_price.rename({'Adj Close':'AAPL'}, axis=1, inplace=True)\n",
    "stocks_price"
   ]
  },
  {
   "cell_type": "code",
   "execution_count": 12,
   "metadata": {},
   "outputs": [],
   "source": [
    "stocks_price.to_csv('./data/stock_prices.csv')"
   ]
  },
  {
   "cell_type": "code",
   "execution_count": 5,
   "metadata": {},
   "outputs": [
    {
     "name": "stdout",
     "output_type": "stream",
     "text": [
      "Adj Close    149.639999\n",
      "Name: 2022-05-27 00:00:00, dtype: float64\n"
     ]
    },
    {
     "data": {
      "image/png": "[encoded data removed]",
      "text/plain": [
       "<Figure size 720x360 with 1 Axes>"
      ]
     },
     "metadata": {
      "needs_background": "light"
     },
     "output_type": "display_data"
    }
   ],
   "source": [
    "import pandas as pd\n",
    "import matplotlib.pyplot as plt\n",
    "\n",
    "stock = pd.read_csv('./data/AAPL-5Y.csv', parse_dates=['Date'], index_col='Date')\n",
    "stock.drop(['Open', 'High', 'Low', 'Close', 'Volume'], axis=1, inplace=True)\n",
    "print(stock.iloc[-1])\n",
    "plt.figure(figsize=(10,5))\n",
    "plt.plot(stock)\n",
    "plt.show();\n"
   ]
  }
 ],
 "metadata": {
  "interpreter": {
   "hash": "c1c6012700f12de55f8e0fcc4d692549fb71199068374c43eaca7d87c58b71b9"
  },
  "kernelspec": {
   "display_name": "Python 3.8.10 64-bit (system)",
   "language": "python",
   "name": "python3"
  },
  "language_info": {
   "codemirror_mode": {
    "name": "ipython",
    "version": 3
   },
   "file_extension": ".py",
   "mimetype": "text/x-python",
   "name": "python",
   "nbconvert_exporter": "python",
   "pygments_lexer": "ipython3",
   "version": "3.8.10"
  },
  "orig_nbformat": 4
 },
 "nbformat": 4,
 "nbformat_minor": 2
}
