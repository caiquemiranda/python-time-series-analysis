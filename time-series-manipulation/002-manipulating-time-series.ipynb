{
 "cells": [
  {
   "cell_type": "code",
   "execution_count": 10,
   "metadata": {},
   "outputs": [],
   "source": [
    "import pandas as pd"
   ]
  },
  {
   "cell_type": "code",
   "execution_count": 11,
   "metadata": {},
   "outputs": [],
   "source": [
    "google = pd.read_csv('./data/GOOGL.csv')"
   ]
  },
  {
   "cell_type": "code",
   "execution_count": 12,
   "metadata": {},
   "outputs": [
    {
     "data": {
      "text/html": [
       "<div>\n",
       "<style scoped>\n",
       "    .dataframe tbody tr th:only-of-type {\n",
       "        vertical-align: middle;\n",
       "    }\n",
       "\n",
       "    .dataframe tbody tr th {\n",
       "        vertical-align: top;\n",
       "    }\n",
       "\n",
       "    .dataframe thead th {\n",
       "        text-align: right;\n",
       "    }\n",
       "</style>\n",
       "<table border=\"1\" class=\"dataframe\">\n",
       "  <thead>\n",
       "    <tr style=\"text-align: right;\">\n",
       "      <th></th>\n",
       "      <th>Date</th>\n",
       "      <th>Open</th>\n",
       "      <th>High</th>\n",
       "      <th>Low</th>\n",
       "      <th>Close</th>\n",
       "      <th>Adj Close</th>\n",
       "      <th>Volume</th>\n",
       "    </tr>\n",
       "  </thead>\n",
       "  <tbody>\n",
       "    <tr>\n",
       "      <th>0</th>\n",
       "      <td>2021-06-01</td>\n",
       "      <td>2374.439941</td>\n",
       "      <td>2385.709961</td>\n",
       "      <td>2354.280029</td>\n",
       "      <td>2381.179932</td>\n",
       "      <td>2381.179932</td>\n",
       "      <td>1167700</td>\n",
       "    </tr>\n",
       "    <tr>\n",
       "      <th>1</th>\n",
       "      <td>2021-06-02</td>\n",
       "      <td>2389.149902</td>\n",
       "      <td>2393.639893</td>\n",
       "      <td>2352.360107</td>\n",
       "      <td>2370.590088</td>\n",
       "      <td>2370.590088</td>\n",
       "      <td>1057900</td>\n",
       "    </tr>\n",
       "    <tr>\n",
       "      <th>2</th>\n",
       "      <td>2021-06-03</td>\n",
       "      <td>2345.729980</td>\n",
       "      <td>2357.020020</td>\n",
       "      <td>2329.520020</td>\n",
       "      <td>2347.580078</td>\n",
       "      <td>2347.580078</td>\n",
       "      <td>934800</td>\n",
       "    </tr>\n",
       "  </tbody>\n",
       "</table>\n",
       "</div>"
      ],
      "text/plain": [
       "         Date         Open         High          Low        Close  \\\n",
       "0  2021-06-01  2374.439941  2385.709961  2354.280029  2381.179932   \n",
       "1  2021-06-02  2389.149902  2393.639893  2352.360107  2370.590088   \n",
       "2  2021-06-03  2345.729980  2357.020020  2329.520020  2347.580078   \n",
       "\n",
       "     Adj Close   Volume  \n",
       "0  2381.179932  1167700  \n",
       "1  2370.590088  1057900  \n",
       "2  2347.580078   934800  "
      ]
     },
     "execution_count": 12,
     "metadata": {},
     "output_type": "execute_result"
    }
   ],
   "source": [
    "google.head(3)"
   ]
  },
  {
   "cell_type": "code",
   "execution_count": 13,
   "metadata": {},
   "outputs": [
    {
     "name": "stdout",
     "output_type": "stream",
     "text": [
      "<class 'pandas.core.frame.DataFrame'>\n",
      "RangeIndex: 252 entries, 0 to 251\n",
      "Data columns (total 7 columns):\n",
      " #   Column     Non-Null Count  Dtype  \n",
      "---  ------     --------------  -----  \n",
      " 0   Date       252 non-null    object \n",
      " 1   Open       252 non-null    float64\n",
      " 2   High       252 non-null    float64\n",
      " 3   Low        252 non-null    float64\n",
      " 4   Close      252 non-null    float64\n",
      " 5   Adj Close  252 non-null    float64\n",
      " 6   Volume     252 non-null    int64  \n",
      "dtypes: float64(5), int64(1), object(1)\n",
      "memory usage: 13.9+ KB\n"
     ]
    }
   ],
   "source": [
    "google.info()"
   ]
  },
  {
   "cell_type": "code",
   "execution_count": 14,
   "metadata": {},
   "outputs": [],
   "source": [
    "google.Date = pd.to_datetime(google.Date)"
   ]
  },
  {
   "cell_type": "code",
   "execution_count": 15,
   "metadata": {},
   "outputs": [
    {
     "name": "stdout",
     "output_type": "stream",
     "text": [
      "<class 'pandas.core.frame.DataFrame'>\n",
      "RangeIndex: 252 entries, 0 to 251\n",
      "Data columns (total 7 columns):\n",
      " #   Column     Non-Null Count  Dtype         \n",
      "---  ------     --------------  -----         \n",
      " 0   Date       252 non-null    datetime64[ns]\n",
      " 1   Open       252 non-null    float64       \n",
      " 2   High       252 non-null    float64       \n",
      " 3   Low        252 non-null    float64       \n",
      " 4   Close      252 non-null    float64       \n",
      " 5   Adj Close  252 non-null    float64       \n",
      " 6   Volume     252 non-null    int64         \n",
      "dtypes: datetime64[ns](1), float64(5), int64(1)\n",
      "memory usage: 13.9 KB\n"
     ]
    }
   ],
   "source": [
    "google.info()"
   ]
  },
  {
   "cell_type": "code",
   "execution_count": 16,
   "metadata": {},
   "outputs": [],
   "source": [
    "google.set_index('Date', inplace=True)"
   ]
  },
  {
   "cell_type": "code",
   "execution_count": 18,
   "metadata": {},
   "outputs": [
    {
     "name": "stdout",
     "output_type": "stream",
     "text": [
      "<class 'pandas.core.frame.DataFrame'>\n",
      "DatetimeIndex: 252 entries, 2021-06-01 to 2022-05-27\n",
      "Data columns (total 6 columns):\n",
      " #   Column     Non-Null Count  Dtype  \n",
      "---  ------     --------------  -----  \n",
      " 0   Open       252 non-null    float64\n",
      " 1   High       252 non-null    float64\n",
      " 2   Low        252 non-null    float64\n",
      " 3   Close      252 non-null    float64\n",
      " 4   Adj Close  252 non-null    float64\n",
      " 5   Volume     252 non-null    int64  \n",
      "dtypes: float64(5), int64(1)\n",
      "memory usage: 13.8 KB\n"
     ]
    }
   ],
   "source": [
    "google.info()"
   ]
  },
  {
   "cell_type": "code",
   "execution_count": 23,
   "metadata": {},
   "outputs": [],
   "source": [
    "import matplotlib.pyplot as plt"
   ]
  },
  {
   "cell_type": "code",
   "execution_count": 34,
   "metadata": {},
   "outputs": [
    {
     "data": {
      "image/png": "[encoded data removed]",
      "text/plain": [
       "<Figure size 1080x360 with 1 Axes>"
      ]
     },
     "metadata": {
      "needs_background": "light"
     },
     "output_type": "display_data"
    }
   ],
   "source": [
    "plt.figure(figsize=(15,5))\n",
    "google.Close.plot(title='Google Stock Price');\n",
    "#plt.grid(True)\n",
    "plt.ylabel('Price')\n",
    "plt.show()"
   ]
  },
  {
   "cell_type": "code",
   "execution_count": 35,
   "metadata": {},
   "outputs": [
    {
     "name": "stdout",
     "output_type": "stream",
     "text": [
      "<class 'pandas.core.frame.DataFrame'>\n",
      "DatetimeIndex: 150 entries, 2021-06-01 to 2021-12-31\n",
      "Data columns (total 6 columns):\n",
      " #   Column     Non-Null Count  Dtype  \n",
      "---  ------     --------------  -----  \n",
      " 0   Open       150 non-null    float64\n",
      " 1   High       150 non-null    float64\n",
      " 2   Low        150 non-null    float64\n",
      " 3   Close      150 non-null    float64\n",
      " 4   Adj Close  150 non-null    float64\n",
      " 5   Volume     150 non-null    int64  \n",
      "dtypes: float64(5), int64(1)\n",
      "memory usage: 8.2 KB\n"
     ]
    },
    {
     "name": "stderr",
     "output_type": "stream",
     "text": [
      "C:\\Users\\CAQUEM~1\\AppData\\Local\\Temp/ipykernel_9680/1306156473.py:2: FutureWarning: Indexing a DataFrame with a datetimelike index using a single string to slice the rows, like `frame[string]`, is deprecated and will be removed in a future version. Use `frame.loc[string]` instead.\n",
      "  google['2021'].info()\n"
     ]
    }
   ],
   "source": [
    "# dados parciais 2021 \n",
    "google['2021'].info()  # dados de 2021 (primeiros dados 06-01)"
   ]
  },
  {
   "cell_type": "code",
   "execution_count": 36,
   "metadata": {},
   "outputs": [
    {
     "name": "stdout",
     "output_type": "stream",
     "text": [
      "<class 'pandas.core.frame.DataFrame'>\n",
      "DatetimeIndex: 107 entries, 2021-08-02 to 2021-12-31\n",
      "Data columns (total 6 columns):\n",
      " #   Column     Non-Null Count  Dtype  \n",
      "---  ------     --------------  -----  \n",
      " 0   Open       107 non-null    float64\n",
      " 1   High       107 non-null    float64\n",
      " 2   Low        107 non-null    float64\n",
      " 3   Close      107 non-null    float64\n",
      " 4   Adj Close  107 non-null    float64\n",
      " 5   Volume     107 non-null    int64  \n",
      "dtypes: float64(5), int64(1)\n",
      "memory usage: 5.9 KB\n"
     ]
    }
   ],
   "source": [
    "# dados por mês\n",
    "google['2021-08' : '2021-12'].info()"
   ]
  },
  {
   "cell_type": "code",
   "execution_count": 38,
   "metadata": {},
   "outputs": [
    {
     "data": {
      "text/plain": [
       "2381.179932"
      ]
     },
     "execution_count": 38,
     "metadata": {},
     "output_type": "execute_result"
    }
   ],
   "source": [
    "# visualização do valor com .loc[indice, coluna]\n",
    "google.loc['2021-6-1', 'Close']"
   ]
  },
  {
   "cell_type": "code",
   "execution_count": 39,
   "metadata": {},
   "outputs": [
    {
     "data": {
      "text/plain": [
       "1167700.0"
      ]
     },
     "execution_count": 39,
     "metadata": {},
     "output_type": "execute_result"
    }
   ],
   "source": [
    "# visualização do valor com .loc[indice, coluna]\n",
    "google.loc['2021-6-1', 'Volume']"
   ]
  },
  {
   "cell_type": "code",
   "execution_count": 47,
   "metadata": {},
   "outputs": [
    {
     "data": {
      "text/plain": [
       "Open         2.389150e+03\n",
       "High         2.393640e+03\n",
       "Low          2.352360e+03\n",
       "Close        2.370590e+03\n",
       "Adj Close    2.370590e+03\n",
       "Volume       1.057900e+06\n",
       "Name: 2021-06-02 00:00:00, dtype: float64"
      ]
     },
     "execution_count": 47,
     "metadata": {},
     "output_type": "execute_result"
    }
   ],
   "source": [
    "# visualização do valor com .loc[indice]\n",
    "google.loc['2021-6-2']"
   ]
  },
  {
   "cell_type": "code",
   "execution_count": 48,
   "metadata": {},
   "outputs": [
    {
     "data": {
      "text/html": [
       "<div>\n",
       "<style scoped>\n",
       "    .dataframe tbody tr th:only-of-type {\n",
       "        vertical-align: middle;\n",
       "    }\n",
       "\n",
       "    .dataframe tbody tr th {\n",
       "        vertical-align: top;\n",
       "    }\n",
       "\n",
       "    .dataframe thead th {\n",
       "        text-align: right;\n",
       "    }\n",
       "</style>\n",
       "<table border=\"1\" class=\"dataframe\">\n",
       "  <thead>\n",
       "    <tr style=\"text-align: right;\">\n",
       "      <th></th>\n",
       "      <th>Open</th>\n",
       "      <th>High</th>\n",
       "      <th>Low</th>\n",
       "      <th>Close</th>\n",
       "      <th>Adj Close</th>\n",
       "      <th>Volume</th>\n",
       "    </tr>\n",
       "    <tr>\n",
       "      <th>Date</th>\n",
       "      <th></th>\n",
       "      <th></th>\n",
       "      <th></th>\n",
       "      <th></th>\n",
       "      <th></th>\n",
       "      <th></th>\n",
       "    </tr>\n",
       "  </thead>\n",
       "  <tbody>\n",
       "    <tr>\n",
       "      <th>2021-06-01</th>\n",
       "      <td>2374.439941</td>\n",
       "      <td>2385.709961</td>\n",
       "      <td>2354.280029</td>\n",
       "      <td>2381.179932</td>\n",
       "      <td>2381.179932</td>\n",
       "      <td>1167700</td>\n",
       "    </tr>\n",
       "    <tr>\n",
       "      <th>2021-06-02</th>\n",
       "      <td>2389.149902</td>\n",
       "      <td>2393.639893</td>\n",
       "      <td>2352.360107</td>\n",
       "      <td>2370.590088</td>\n",
       "      <td>2370.590088</td>\n",
       "      <td>1057900</td>\n",
       "    </tr>\n",
       "  </tbody>\n",
       "</table>\n",
       "</div>"
      ],
      "text/plain": [
       "                   Open         High          Low        Close    Adj Close  \\\n",
       "Date                                                                          \n",
       "2021-06-01  2374.439941  2385.709961  2354.280029  2381.179932  2381.179932   \n",
       "2021-06-02  2389.149902  2393.639893  2352.360107  2370.590088  2370.590088   \n",
       "\n",
       "             Volume  \n",
       "Date                 \n",
       "2021-06-01  1167700  \n",
       "2021-06-02  1057900  "
      ]
     },
     "execution_count": 48,
     "metadata": {},
     "output_type": "execute_result"
    }
   ],
   "source": [
    "# busca por indice \n",
    "google.iloc[:2]"
   ]
  },
  {
   "cell_type": "code",
   "execution_count": 49,
   "metadata": {},
   "outputs": [
    {
     "name": "stdout",
     "output_type": "stream",
     "text": [
      "<class 'pandas.core.frame.DataFrame'>\n",
      "DatetimeIndex: 361 entries, 2021-06-01 to 2022-05-27\n",
      "Freq: D\n",
      "Data columns (total 6 columns):\n",
      " #   Column     Non-Null Count  Dtype  \n",
      "---  ------     --------------  -----  \n",
      " 0   Open       252 non-null    float64\n",
      " 1   High       252 non-null    float64\n",
      " 2   Low        252 non-null    float64\n",
      " 3   Close      252 non-null    float64\n",
      " 4   Adj Close  252 non-null    float64\n",
      " 5   Volume     252 non-null    float64\n",
      "dtypes: float64(6)\n",
      "memory usage: 19.7 KB\n"
     ]
    }
   ],
   "source": [
    "# set frequencia por \"Dias\"\n",
    "google.asfreq('D').info()"
   ]
  },
  {
   "cell_type": "code",
   "execution_count": 53,
   "metadata": {},
   "outputs": [
    {
     "data": {
      "text/html": [
       "<div>\n",
       "<style scoped>\n",
       "    .dataframe tbody tr th:only-of-type {\n",
       "        vertical-align: middle;\n",
       "    }\n",
       "\n",
       "    .dataframe tbody tr th {\n",
       "        vertical-align: top;\n",
       "    }\n",
       "\n",
       "    .dataframe thead th {\n",
       "        text-align: right;\n",
       "    }\n",
       "</style>\n",
       "<table border=\"1\" class=\"dataframe\">\n",
       "  <thead>\n",
       "    <tr style=\"text-align: right;\">\n",
       "      <th></th>\n",
       "      <th>Open</th>\n",
       "      <th>High</th>\n",
       "      <th>Low</th>\n",
       "      <th>Close</th>\n",
       "      <th>Adj Close</th>\n",
       "      <th>Volume</th>\n",
       "    </tr>\n",
       "    <tr>\n",
       "      <th>Date</th>\n",
       "      <th></th>\n",
       "      <th></th>\n",
       "      <th></th>\n",
       "      <th></th>\n",
       "      <th></th>\n",
       "      <th></th>\n",
       "    </tr>\n",
       "  </thead>\n",
       "  <tbody>\n",
       "    <tr>\n",
       "      <th>2021-06-01</th>\n",
       "      <td>2374.439941</td>\n",
       "      <td>2385.709961</td>\n",
       "      <td>2354.280029</td>\n",
       "      <td>2381.179932</td>\n",
       "      <td>2381.179932</td>\n",
       "      <td>1167700.0</td>\n",
       "    </tr>\n",
       "    <tr>\n",
       "      <th>2021-06-02</th>\n",
       "      <td>2389.149902</td>\n",
       "      <td>2393.639893</td>\n",
       "      <td>2352.360107</td>\n",
       "      <td>2370.590088</td>\n",
       "      <td>2370.590088</td>\n",
       "      <td>1057900.0</td>\n",
       "    </tr>\n",
       "    <tr>\n",
       "      <th>2021-06-03</th>\n",
       "      <td>2345.729980</td>\n",
       "      <td>2357.020020</td>\n",
       "      <td>2329.520020</td>\n",
       "      <td>2347.580078</td>\n",
       "      <td>2347.580078</td>\n",
       "      <td>934800.0</td>\n",
       "    </tr>\n",
       "    <tr>\n",
       "      <th>2021-06-04</th>\n",
       "      <td>2369.270020</td>\n",
       "      <td>2399.030029</td>\n",
       "      <td>2362.409912</td>\n",
       "      <td>2393.570068</td>\n",
       "      <td>2393.570068</td>\n",
       "      <td>1222900.0</td>\n",
       "    </tr>\n",
       "    <tr>\n",
       "      <th>2021-06-05</th>\n",
       "      <td>NaN</td>\n",
       "      <td>NaN</td>\n",
       "      <td>NaN</td>\n",
       "      <td>NaN</td>\n",
       "      <td>NaN</td>\n",
       "      <td>NaN</td>\n",
       "    </tr>\n",
       "    <tr>\n",
       "      <th>2021-06-06</th>\n",
       "      <td>NaN</td>\n",
       "      <td>NaN</td>\n",
       "      <td>NaN</td>\n",
       "      <td>NaN</td>\n",
       "      <td>NaN</td>\n",
       "      <td>NaN</td>\n",
       "    </tr>\n",
       "    <tr>\n",
       "      <th>2021-06-07</th>\n",
       "      <td>2389.439941</td>\n",
       "      <td>2404.510010</td>\n",
       "      <td>2381.000000</td>\n",
       "      <td>2402.300049</td>\n",
       "      <td>2402.300049</td>\n",
       "      <td>1206000.0</td>\n",
       "    </tr>\n",
       "    <tr>\n",
       "      <th>2021-06-08</th>\n",
       "      <td>2412.010010</td>\n",
       "      <td>2419.520020</td>\n",
       "      <td>2394.780029</td>\n",
       "      <td>2398.439941</td>\n",
       "      <td>2398.439941</td>\n",
       "      <td>1212000.0</td>\n",
       "    </tr>\n",
       "  </tbody>\n",
       "</table>\n",
       "</div>"
      ],
      "text/plain": [
       "                   Open         High          Low        Close    Adj Close  \\\n",
       "Date                                                                          \n",
       "2021-06-01  2374.439941  2385.709961  2354.280029  2381.179932  2381.179932   \n",
       "2021-06-02  2389.149902  2393.639893  2352.360107  2370.590088  2370.590088   \n",
       "2021-06-03  2345.729980  2357.020020  2329.520020  2347.580078  2347.580078   \n",
       "2021-06-04  2369.270020  2399.030029  2362.409912  2393.570068  2393.570068   \n",
       "2021-06-05          NaN          NaN          NaN          NaN          NaN   \n",
       "2021-06-06          NaN          NaN          NaN          NaN          NaN   \n",
       "2021-06-07  2389.439941  2404.510010  2381.000000  2402.300049  2402.300049   \n",
       "2021-06-08  2412.010010  2419.520020  2394.780029  2398.439941  2398.439941   \n",
       "\n",
       "               Volume  \n",
       "Date                   \n",
       "2021-06-01  1167700.0  \n",
       "2021-06-02  1057900.0  \n",
       "2021-06-03   934800.0  \n",
       "2021-06-04  1222900.0  \n",
       "2021-06-05        NaN  \n",
       "2021-06-06        NaN  \n",
       "2021-06-07  1206000.0  \n",
       "2021-06-08  1212000.0  "
      ]
     },
     "execution_count": 53,
     "metadata": {},
     "output_type": "execute_result"
    }
   ],
   "source": [
    "google.asfreq('D').head(8)"
   ]
  },
  {
   "cell_type": "code",
   "execution_count": 54,
   "metadata": {},
   "outputs": [],
   "source": [
    "# apareceram valores NaN (not a number) aos dias em que o mercado financeiro está fechado"
   ]
  },
  {
   "cell_type": "code",
   "execution_count": 55,
   "metadata": {},
   "outputs": [],
   "source": [
    "google = google.asfreq('B')\n",
    "# 'B' frequencia de Business, dias Uteis"
   ]
  },
  {
   "cell_type": "code",
   "execution_count": 56,
   "metadata": {},
   "outputs": [
    {
     "name": "stdout",
     "output_type": "stream",
     "text": [
      "<class 'pandas.core.frame.DataFrame'>\n",
      "DatetimeIndex: 259 entries, 2021-06-01 to 2022-05-27\n",
      "Freq: B\n",
      "Data columns (total 6 columns):\n",
      " #   Column     Non-Null Count  Dtype  \n",
      "---  ------     --------------  -----  \n",
      " 0   Open       252 non-null    float64\n",
      " 1   High       252 non-null    float64\n",
      " 2   Low        252 non-null    float64\n",
      " 3   Close      252 non-null    float64\n",
      " 4   Adj Close  252 non-null    float64\n",
      " 5   Volume     252 non-null    float64\n",
      "dtypes: float64(6)\n",
      "memory usage: 14.2 KB\n"
     ]
    }
   ],
   "source": [
    "google.info()"
   ]
  },
  {
   "cell_type": "code",
   "execution_count": 57,
   "metadata": {},
   "outputs": [
    {
     "data": {
      "text/html": [
       "<div>\n",
       "<style scoped>\n",
       "    .dataframe tbody tr th:only-of-type {\n",
       "        vertical-align: middle;\n",
       "    }\n",
       "\n",
       "    .dataframe tbody tr th {\n",
       "        vertical-align: top;\n",
       "    }\n",
       "\n",
       "    .dataframe thead th {\n",
       "        text-align: right;\n",
       "    }\n",
       "</style>\n",
       "<table border=\"1\" class=\"dataframe\">\n",
       "  <thead>\n",
       "    <tr style=\"text-align: right;\">\n",
       "      <th></th>\n",
       "      <th>Open</th>\n",
       "      <th>High</th>\n",
       "      <th>Low</th>\n",
       "      <th>Close</th>\n",
       "      <th>Adj Close</th>\n",
       "      <th>Volume</th>\n",
       "    </tr>\n",
       "    <tr>\n",
       "      <th>Date</th>\n",
       "      <th></th>\n",
       "      <th></th>\n",
       "      <th></th>\n",
       "      <th></th>\n",
       "      <th></th>\n",
       "      <th></th>\n",
       "    </tr>\n",
       "  </thead>\n",
       "  <tbody>\n",
       "    <tr>\n",
       "      <th>2021-07-05</th>\n",
       "      <td>NaN</td>\n",
       "      <td>NaN</td>\n",
       "      <td>NaN</td>\n",
       "      <td>NaN</td>\n",
       "      <td>NaN</td>\n",
       "      <td>NaN</td>\n",
       "    </tr>\n",
       "    <tr>\n",
       "      <th>2021-09-06</th>\n",
       "      <td>NaN</td>\n",
       "      <td>NaN</td>\n",
       "      <td>NaN</td>\n",
       "      <td>NaN</td>\n",
       "      <td>NaN</td>\n",
       "      <td>NaN</td>\n",
       "    </tr>\n",
       "    <tr>\n",
       "      <th>2021-11-25</th>\n",
       "      <td>NaN</td>\n",
       "      <td>NaN</td>\n",
       "      <td>NaN</td>\n",
       "      <td>NaN</td>\n",
       "      <td>NaN</td>\n",
       "      <td>NaN</td>\n",
       "    </tr>\n",
       "    <tr>\n",
       "      <th>2021-12-24</th>\n",
       "      <td>NaN</td>\n",
       "      <td>NaN</td>\n",
       "      <td>NaN</td>\n",
       "      <td>NaN</td>\n",
       "      <td>NaN</td>\n",
       "      <td>NaN</td>\n",
       "    </tr>\n",
       "    <tr>\n",
       "      <th>2022-01-17</th>\n",
       "      <td>NaN</td>\n",
       "      <td>NaN</td>\n",
       "      <td>NaN</td>\n",
       "      <td>NaN</td>\n",
       "      <td>NaN</td>\n",
       "      <td>NaN</td>\n",
       "    </tr>\n",
       "    <tr>\n",
       "      <th>2022-02-21</th>\n",
       "      <td>NaN</td>\n",
       "      <td>NaN</td>\n",
       "      <td>NaN</td>\n",
       "      <td>NaN</td>\n",
       "      <td>NaN</td>\n",
       "      <td>NaN</td>\n",
       "    </tr>\n",
       "    <tr>\n",
       "      <th>2022-04-15</th>\n",
       "      <td>NaN</td>\n",
       "      <td>NaN</td>\n",
       "      <td>NaN</td>\n",
       "      <td>NaN</td>\n",
       "      <td>NaN</td>\n",
       "      <td>NaN</td>\n",
       "    </tr>\n",
       "  </tbody>\n",
       "</table>\n",
       "</div>"
      ],
      "text/plain": [
       "            Open  High  Low  Close  Adj Close  Volume\n",
       "Date                                                 \n",
       "2021-07-05   NaN   NaN  NaN    NaN        NaN     NaN\n",
       "2021-09-06   NaN   NaN  NaN    NaN        NaN     NaN\n",
       "2021-11-25   NaN   NaN  NaN    NaN        NaN     NaN\n",
       "2021-12-24   NaN   NaN  NaN    NaN        NaN     NaN\n",
       "2022-01-17   NaN   NaN  NaN    NaN        NaN     NaN\n",
       "2022-02-21   NaN   NaN  NaN    NaN        NaN     NaN\n",
       "2022-04-15   NaN   NaN  NaN    NaN        NaN     NaN"
      ]
     },
     "execution_count": 57,
     "metadata": {},
     "output_type": "execute_result"
    }
   ],
   "source": [
    "# filtro de valores nulos após seleção dos dias uteis\n",
    "google[google.Close.isnull()]"
   ]
  },
  {
   "cell_type": "code",
   "execution_count": 58,
   "metadata": {},
   "outputs": [],
   "source": [
    "# dias uteis que não tiveram trade"
   ]
  },
  {
   "cell_type": "code",
   "execution_count": null,
   "metadata": {},
   "outputs": [],
   "source": []
  }
 ],
 "metadata": {
  "interpreter": {
   "hash": "c1c6012700f12de55f8e0fcc4d692549fb71199068374c43eaca7d87c58b71b9"
  },
  "kernelspec": {
   "display_name": "Python 3.8.10 64-bit (system)",
   "language": "python",
   "name": "python3"
  },
  "language_info": {
   "codemirror_mode": {
    "name": "ipython",
    "version": 3
   },
   "file_extension": ".py",
   "mimetype": "text/x-python",
   "name": "python",
   "nbconvert_exporter": "python",
   "pygments_lexer": "ipython3",
   "version": "3.8.10"
  },
  "orig_nbformat": 4
 },
 "nbformat": 4,
 "nbformat_minor": 2
}
