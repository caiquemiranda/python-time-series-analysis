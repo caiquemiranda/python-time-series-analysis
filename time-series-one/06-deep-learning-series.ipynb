{
 "cells": [
  {
   "cell_type": "code",
   "execution_count": 1,
   "metadata": {},
   "outputs": [],
   "source": [
    "# ikmportações necessarias\n",
    "\n",
    "from tensorflow.keras.models import Sequential\n",
    "from tensorflow.keras.layers import Dense, LSTM, Dropout\n",
    "from sklearn.preprocessing import MinMaxScaler\n",
    "import matplotlib.pyplot as plt\n",
    "import pandas as pd\n",
    "import numpy as np\n",
    "import math"
   ]
  },
  {
   "cell_type": "code",
   "execution_count": null,
   "metadata": {},
   "outputs": [],
   "source": [
    "# importando dados\n",
    "df = pd.read_csv('./data/AirPassengers.csv', \n",
    "                 sep=',',\n",
    "                 parse_dates=True,\n",
    "                 index_col=0)\n",
    "\n",
    "# conversão para uso no keras\n",
    "data = df.values\n",
    "data = data.astype('float32')\n",
    "\n",
    "# semente aleatória para conservar os mesmos valores nos testes\n",
    "np.random.seed(3)\n",
    "\n",
    "# viz dos valores\n",
    "data[0:3]"
   ]
  },
  {
   "cell_type": "code",
   "execution_count": null,
   "metadata": {},
   "outputs": [],
   "source": [
    "# separação treino e teste\n",
    "\n",
    "train = data[0:125, :]\n",
    "test  = data[125:, :]"
   ]
  },
  {
   "cell_type": "code",
   "execution_count": null,
   "metadata": {},
   "outputs": [],
   "source": [
    "# função de preparação dos dados\n",
    "\n",
    "def prep_data(data, lags=1):\n",
    "    \n",
    "    X, y = [],[]\n",
    "    \n",
    "    for linha in range(len(data) - lags - 1 ):\n",
    "        a = data[ linha :( linha + lags ), 0 ]\n",
    "        X.append( a )\n",
    "        y.append( data [ linha + lags, 0 ])\n",
    "    \n",
    "    return np.array(X), np.array(y) \n"
   ]
  },
  {
   "cell_type": "code",
   "execution_count": null,
   "metadata": {},
   "outputs": [],
   "source": [
    "# preparando os dados\n",
    "\n",
    "lags = 1 \n",
    "\n",
    "X_train, y_train = prep_data(train, lags)\n",
    "X_test, y_test = prep_data(test, lags)\n",
    "y_true = y_test"
   ]
  },
  {
   "cell_type": "code",
   "execution_count": null,
   "metadata": {},
   "outputs": [],
   "source": [
    "# visualização grafica\n",
    "\n",
    "plt.plot(y_test, label='Dados Reais | y or t+1 ', color='blue')\n",
    "plt.plot(X_test, label='Dados Passados | x or t ', color='orange')\n",
    "plt.legend(loc='upper left')\n",
    "plt.title('Periodo de observação')\n",
    "plt.show()"
   ]
  },
  {
   "cell_type": "code",
   "execution_count": null,
   "metadata": {},
   "outputs": [],
   "source": [
    "# criando e treinando a rede neural \n",
    "\n",
    "model_1 = Sequential()\n",
    "model_1.add(Dense(3, input_dim=lags, activation='relu'))\n",
    "model_1.add(Dense(1))\n",
    "model_1.compile(loss='mean_squared_error', optimizer='adam')\n",
    "model_1.fit(X_train, y_train, epochs=200, batch_size=2, verbose=2)"
   ]
  },
  {
   "cell_type": "code",
   "execution_count": null,
   "metadata": {},
   "outputs": [],
   "source": [
    "# avaliação\n",
    "\n",
    "train_score = model_1.evaluate(X_train, y_train, verbose=0)\n",
    "print(f'Pontuação de Treino : {train_score:.2f} MSE ({math.sqrt(train_score):.2f} RMSE)')\n",
    "\n",
    "test_score = model_1.evaluate(X_test, y_test, verbose=0)\n",
    "print(f'Pontuação de Teste : {test_score:.2f} MSE ({math.sqrt(test_score):.2f} RMSE)')"
   ]
  },
  {
   "cell_type": "code",
   "execution_count": null,
   "metadata": {},
   "outputs": [],
   "source": [
    "# previsões\n",
    "\n",
    "train_predict = model_1.predict(X_train)\n",
    "test_predict = model_1.predict(X_test)"
   ]
  },
  {
   "cell_type": "code",
   "execution_count": null,
   "metadata": {},
   "outputs": [],
   "source": [
    "# visualização grafica\n",
    "\n",
    "# configuração dos dados de treino\n",
    "train_predict_plot = np.empty_like(data)\n",
    "train_predict_plot[:, :] = np.nan\n",
    "train_predict_plot[lags: len( train_predict ) + lags, : ] = train_predict\n",
    "\n",
    "# configuração dos dados de teste\n",
    "test_predict_plot = np.empty_like(data)\n",
    "test_predict_plot[:, :] = np.nan\n",
    "test_predict_plot[len( train_predict ) + ( lags * 2 ) + 1: len(data) -1, :] = test_predict\n",
    "\n",
    "# configuração do grafico\n",
    "plt.figure(figsize=(16,5))\n",
    "plt.plot(data, label='Observado', color='blue')\n",
    "plt.plot(train_predict_plot, label='Previsão dados de treino', color='red', alpha=0.5)\n",
    "plt.plot(test_predict_plot, label='previsão dados de teste', color='green')\n",
    "plt.legend(loc='best')\n",
    "plt.title('Redes Neurais Artificiais')\n",
    "\n",
    "plt.show()"
   ]
  },
  {
   "cell_type": "code",
   "execution_count": null,
   "metadata": {},
   "outputs": [],
   "source": [
    "# uso de LSTM"
   ]
  },
  {
   "cell_type": "code",
   "execution_count": null,
   "metadata": {},
   "outputs": [],
   "source": [
    "# importando os dados\n",
    "\n",
    "df=pd.read_csv('./data/international-airline-passengers.csv',\n",
    "               usecols=[1],\n",
    "               skipfooter=3,\n",
    "               engine='python')\n",
    "\n",
    "# visualização dados\n",
    "df.head(3)"
   ]
  },
  {
   "cell_type": "code",
   "execution_count": null,
   "metadata": {},
   "outputs": [],
   "source": [
    "# # grafico dos dados\n",
    "\n",
    "plt.figure(figsize=(15,5))\n",
    "plt.plot(df, label='Passageiros de linhas Aéreas')\n",
    "plt.xlabel('Meses')\n",
    "plt.ylabel('Qt/K Passageiros')\n",
    "plt.title('Passageiros mensais de 1949 até 1960')\n",
    "plt.legend()\n",
    "plt.show()"
   ]
  },
  {
   "cell_type": "code",
   "execution_count": null,
   "metadata": {},
   "outputs": [],
   "source": [
    "# transformação dos dados para o formato do keras\n",
    "\n",
    "data_raw = df.values.astype('float32')\n",
    "\n",
    "scaler = MinMaxScaler(feature_range=(0,1))\n",
    "data_scaled = scaler.fit_transform(data_raw)"
   ]
  },
  {
   "cell_type": "code",
   "execution_count": null,
   "metadata": {},
   "outputs": [],
   "source": [
    "# separação dos dados\n",
    "\n",
    "TRAIN_SIZE = 0.75\n",
    "\n",
    "train_size = int( len(data_scaled) * TRAIN_SIZE )\n",
    "test_size  = len(data_scaled) - train_size\n",
    "\n",
    "train, test = data_scaled[ 0: train_size, : ], data_scaled[ train_size : len(data_scaled), : ]\n",
    "\n",
    "# tamanho dos dados\n",
    "print(len(train))\n",
    "print(len(test))"
   ]
  },
  {
   "cell_type": "code",
   "execution_count": null,
   "metadata": {},
   "outputs": [],
   "source": [
    "# preparando os dados\n",
    "\n",
    "lags = 1 \n",
    "\n",
    "train_X, train_Y = prep_data(train, lags)\n",
    "test_X, test_Y = prep_data(test, lags)"
   ]
  },
  {
   "cell_type": "code",
   "execution_count": null,
   "metadata": {},
   "outputs": [],
   "source": [
    "# visualização grafica\n",
    "\n",
    "plt.plot(y_test, label='Dados Reais | y or t+1 ', color='blue')\n",
    "plt.plot(X_test, label='Dados Passados | x or t ', color='orange')\n",
    "plt.legend(loc='upper left')\n",
    "plt.title('Periodo de observação')\n",
    "plt.show()"
   ]
  },
  {
   "cell_type": "code",
   "execution_count": null,
   "metadata": {},
   "outputs": [],
   "source": [
    "# tamanho dos dados antes da trasnformação\n",
    "\n",
    "X_train.shape, X_test.shape"
   ]
  },
  {
   "cell_type": "code",
   "execution_count": null,
   "metadata": {},
   "outputs": [],
   "source": [
    "# reshape dos dados e visualização\n",
    "\n",
    "train_X = np.reshape(X_train, (X_train.shape[0], 1, X_train.shape[1]))\n",
    "test_X  = np.reshape(X_test, (X_test.shape[0], 1, X_test.shape[1]))\n",
    "\n",
    "# visualização dos dados após transformação\n",
    "train_X.shape, test_X.shape"
   ]
  },
  {
   "cell_type": "code",
   "execution_count": null,
   "metadata": {},
   "outputs": [],
   "source": [
    "y_train.shape"
   ]
  },
  {
   "cell_type": "code",
   "execution_count": null,
   "metadata": {},
   "outputs": [],
   "source": [
    "# criando LSTM\n",
    "\n",
    "windows_size = 1\n",
    "\n",
    "model_2 = Sequential()\n",
    "\n",
    "model_2.add(LSTM(4, input_shape = (1, windows_size)))\n",
    "model_2.add(Dense(1))\n",
    "\n",
    "model_2.compile(loss='mean_squared_error', optimizer='adam')\n",
    "model_2.fit(train_X,\n",
    "            train_Y, \n",
    "            epochs=100, \n",
    "            batch_size=1, \n",
    "            verbose=True)"
   ]
  },
  {
   "cell_type": "code",
   "execution_count": null,
   "metadata": {},
   "outputs": [],
   "source": [
    "# LSTM para dados do mercado financeiro"
   ]
  },
  {
   "cell_type": "code",
   "execution_count": 50,
   "metadata": {},
   "outputs": [
    {
     "data": {
      "text/html": [
       "<div>\n",
       "<style scoped>\n",
       "    .dataframe tbody tr th:only-of-type {\n",
       "        vertical-align: middle;\n",
       "    }\n",
       "\n",
       "    .dataframe tbody tr th {\n",
       "        vertical-align: top;\n",
       "    }\n",
       "\n",
       "    .dataframe thead th {\n",
       "        text-align: right;\n",
       "    }\n",
       "</style>\n",
       "<table border=\"1\" class=\"dataframe\">\n",
       "  <thead>\n",
       "    <tr style=\"text-align: right;\">\n",
       "      <th></th>\n",
       "      <th>date</th>\n",
       "      <th>open</th>\n",
       "      <th>high</th>\n",
       "      <th>low</th>\n",
       "      <th>close</th>\n",
       "      <th>volume</th>\n",
       "      <th>Name</th>\n",
       "    </tr>\n",
       "  </thead>\n",
       "  <tbody>\n",
       "    <tr>\n",
       "      <th>0</th>\n",
       "      <td>2013-02-08</td>\n",
       "      <td>15.07</td>\n",
       "      <td>15.12</td>\n",
       "      <td>14.63</td>\n",
       "      <td>14.75</td>\n",
       "      <td>8407500</td>\n",
       "      <td>AAL</td>\n",
       "    </tr>\n",
       "    <tr>\n",
       "      <th>1</th>\n",
       "      <td>2013-02-11</td>\n",
       "      <td>14.89</td>\n",
       "      <td>15.01</td>\n",
       "      <td>14.26</td>\n",
       "      <td>14.46</td>\n",
       "      <td>8882000</td>\n",
       "      <td>AAL</td>\n",
       "    </tr>\n",
       "    <tr>\n",
       "      <th>2</th>\n",
       "      <td>2013-02-12</td>\n",
       "      <td>14.45</td>\n",
       "      <td>14.51</td>\n",
       "      <td>14.10</td>\n",
       "      <td>14.27</td>\n",
       "      <td>8126000</td>\n",
       "      <td>AAL</td>\n",
       "    </tr>\n",
       "  </tbody>\n",
       "</table>\n",
       "</div>"
      ],
      "text/plain": [
       "         date   open   high    low  close   volume Name\n",
       "0  2013-02-08  15.07  15.12  14.63  14.75  8407500  AAL\n",
       "1  2013-02-11  14.89  15.01  14.26  14.46  8882000  AAL\n",
       "2  2013-02-12  14.45  14.51  14.10  14.27  8126000  AAL"
      ]
     },
     "execution_count": 50,
     "metadata": {},
     "output_type": "execute_result"
    }
   ],
   "source": [
    "# importação dos dados financeiros\n",
    "\n",
    "df = pd.read_csv('./data/all-stocks-5yr.csv')\n",
    "df.head(3)"
   ]
  },
  {
   "cell_type": "code",
   "execution_count": 51,
   "metadata": {},
   "outputs": [
    {
     "data": {
      "text/plain": [
       "505"
      ]
     },
     "execution_count": 51,
     "metadata": {},
     "output_type": "execute_result"
    }
   ],
   "source": [
    "# quantidade de empresas no dataset\n",
    "\n",
    "comp = df.Name.unique()\n",
    "len(comp)"
   ]
  },
  {
   "cell_type": "code",
   "execution_count": 52,
   "metadata": {},
   "outputs": [
    {
     "name": "stdout",
     "output_type": "stream",
     "text": [
      "<class 'pandas.core.frame.DataFrame'>\n",
      "Int64Index: 1259 entries, 617781 to 619039\n",
      "Data columns (total 7 columns):\n",
      " #   Column  Non-Null Count  Dtype  \n",
      "---  ------  --------------  -----  \n",
      " 0   date    1259 non-null   object \n",
      " 1   open    1259 non-null   float64\n",
      " 2   high    1259 non-null   float64\n",
      " 3   low     1259 non-null   float64\n",
      " 4   close   1259 non-null   float64\n",
      " 5   volume  1259 non-null   int64  \n",
      " 6   Name    1259 non-null   object \n",
      "dtypes: float64(4), int64(1), object(2)\n",
      "memory usage: 78.7+ KB\n"
     ]
    }
   ],
   "source": [
    "# selecionando uma empresa\n",
    "\n",
    "z = df.loc[df['Name']=='ZTS']\n",
    "z.info()"
   ]
  },
  {
   "cell_type": "code",
   "execution_count": 53,
   "metadata": {},
   "outputs": [
    {
     "data": {
      "text/plain": [
       "array([[0.08995937],\n",
       "       [0.09402205],\n",
       "       [0.10330818],\n",
       "       ...,\n",
       "       [0.8788934 ],\n",
       "       [0.86805959],\n",
       "       [0.87947379]])"
      ]
     },
     "execution_count": 53,
     "metadata": {},
     "output_type": "execute_result"
    }
   ],
   "source": [
    "# criação de um array com preços de fechamento \n",
    "\n",
    "train = z.iloc[:, 4:5].values\n",
    "scaler = MinMaxScaler()\n",
    "train_scaled = scaler.fit_transform(train)\n",
    "train_scaled"
   ]
  },
  {
   "cell_type": "code",
   "execution_count": 54,
   "metadata": {},
   "outputs": [],
   "source": [
    "# tranformação para rede neural\n",
    "\n",
    "x_train = []\n",
    "y_train = []\n",
    "timestamp = 45\n",
    "length = len(train)\n",
    "\n",
    "for i in range(timestamp, length):\n",
    "    \n",
    "    x_train.append(train_scaled[ i - timestamp : i, 0 ])\n",
    "    y_train.append(train_scaled[ i, 0 ])\n",
    "\n",
    "x_train = np.array(x_train)\n",
    "y_train = np.array(y_train)"
   ]
  },
  {
   "cell_type": "code",
   "execution_count": 55,
   "metadata": {},
   "outputs": [
    {
     "name": "stdout",
     "output_type": "stream",
     "text": [
      "[0.08995937 0.09402205 0.10330818 0.09963242 0.09421552 0.10795125\n",
      " 0.10524279 0.08357516 0.08047978 0.08106017 0.07100019 0.07041981\n",
      " 0.07583672 0.09769781 0.11994583 0.11510931 0.11394854 0.10543625\n",
      " 0.11917199 0.11007932 0.11182047 0.10485587 0.10833817 0.12071967\n",
      " 0.09750435 0.08589669 0.08512285 0.09885858 0.09808474 0.0913136\n",
      " 0.07854517 0.07951248 0.08396208 0.09673051 0.08106017 0.08028632\n",
      " 0.0798994  0.06655059 0.06887212 0.08744438 0.09750435 0.09189398\n",
      " 0.09208744 0.09344167 0.07428903]\n",
      "\n",
      "\n",
      "0.0930547494679822\n"
     ]
    }
   ],
   "source": [
    "# visualização dos valores após a transformação\n",
    "\n",
    "print(x_train[0])\n",
    "print('\\n')\n",
    "print(y_train[0])"
   ]
  },
  {
   "cell_type": "code",
   "execution_count": 56,
   "metadata": {},
   "outputs": [
    {
     "data": {
      "text/plain": [
       "(1214, 45, 1)"
      ]
     },
     "execution_count": 56,
     "metadata": {},
     "output_type": "execute_result"
    }
   ],
   "source": [
    "x_train = np.reshape(x_train, (x_train.shape[0], x_train.shape[1], 1))\n",
    "x_train.shape"
   ]
  },
  {
   "cell_type": "code",
   "execution_count": 75,
   "metadata": {},
   "outputs": [
    {
     "name": "stdout",
     "output_type": "stream",
     "text": [
      "Epoch 1/2\n",
      "38/38 [==============================] - 3s 92ms/step - loss: 0.0164\n",
      "Epoch 2/2\n",
      "38/38 [==============================] - 3s 91ms/step - loss: 0.0023\n"
     ]
    },
    {
     "data": {
      "text/plain": [
       "<tensorflow.python.keras.callbacks.History at 0x292facd52e0>"
      ]
     },
     "execution_count": 75,
     "metadata": {},
     "output_type": "execute_result"
    }
   ],
   "source": [
    "model_3 = Sequential()\n",
    "\n",
    "model_3.add(LSTM(units=120, return_sequences=True, input_shape=(x_train.shape[1], 1)))\n",
    "model_3.add(Dropout(0.2))\n",
    "\n",
    "model_3.add(LSTM(units=120, return_sequences=True))\n",
    "model_3.add(Dropout(0.2))\n",
    "\n",
    "model_3.add(LSTM(units=120, return_sequences=True))\n",
    "model_3.add(Dropout(0.2))\n",
    "\n",
    "model_3.add(LSTM(units=120, return_sequences=False))\n",
    "model_3.add(Dropout(0.2))\n",
    "\n",
    "model_3.add(Dense(units=1))\n",
    "\n",
    "model_3.compile(optimizer='adam', loss='mean_squared_error')\n",
    "\n",
    "model_3.fit(x_train, y_train, epochs=25, batch_size=32)"
   ]
  },
  {
   "cell_type": "code",
   "execution_count": 58,
   "metadata": {},
   "outputs": [],
   "source": [
    "# teste com outras ações\n",
    "\n",
    "test_set = df.loc[df['Name']=='BA']\n",
    "test_set = test_set.loc[:,test_set.columns=='close']"
   ]
  },
  {
   "cell_type": "code",
   "execution_count": 59,
   "metadata": {},
   "outputs": [],
   "source": [
    "# preparação dos dados\n",
    "\n",
    "y_test = test_set.iloc[timestamp: , 0].values"
   ]
  },
  {
   "cell_type": "code",
   "execution_count": 60,
   "metadata": {},
   "outputs": [],
   "source": [
    "# scaler dos dados\n",
    "\n",
    "close_price = test_set.iloc[ :, 0:].values\n",
    "close_price_scaled = scaler.transform(close_price)"
   ]
  },
  {
   "cell_type": "code",
   "execution_count": 61,
   "metadata": {},
   "outputs": [
    {
     "data": {
      "text/plain": [
       "(1214, 45)"
      ]
     },
     "execution_count": 61,
     "metadata": {},
     "output_type": "execute_result"
    }
   ],
   "source": [
    "# tranformação para o formato esperado da rede neural\n",
    "\n",
    "x_test = []\n",
    "length = len(test_set)\n",
    "\n",
    "for i in range(timestamp, length):\n",
    "    x_test.append(close_price_scaled[i - timestamp : i, 0])\n",
    "\n",
    "x_test = np.array(x_test)\n",
    "x_test.shape"
   ]
  },
  {
   "cell_type": "code",
   "execution_count": 62,
   "metadata": {},
   "outputs": [
    {
     "data": {
      "text/plain": [
       "(1214, 45, 1)"
      ]
     },
     "execution_count": 62,
     "metadata": {},
     "output_type": "execute_result"
    }
   ],
   "source": [
    "# transformação dos dados para previsão e visualização\n",
    "\n",
    "x_test = np.reshape(x_test, (x_test.shape[0], x_test.shape[1],1))\n",
    "\n",
    "y_pred = model_3.predict(x_test)\n",
    "\n",
    "previsao_price = scaler.inverse_transform(y_pred)"
   ]
  },
  {
   "cell_type": "code",
   "execution_count": 78,
   "metadata": {},
   "outputs": [
    {
     "data": {
      "image/png": "[encoded data removed]",
      "text/plain": [
       "<Figure size 432x288 with 1 Axes>"
      ]
     },
     "metadata": {
      "needs_background": "light"
     },
     "output_type": "display_data"
    }
   ],
   "source": [
    "# grafico das previsões\n",
    "\n",
    "plt.plot(y_test, color='blue', label='Preço Atual das Ações')\n",
    "plt.plot(previsao_price, color='red', label='Preço Previsto das Ações')\n",
    "plt.title('Previsão de Preço de Ações')\n",
    "plt.xlabel('Tempo')\n",
    "plt.ylabel('Preço das Ações')\n",
    "plt.legend()\n",
    "plt.show()"
   ]
  }
 ],
 "metadata": {
  "interpreter": {
   "hash": "ad2bdc8ecc057115af97d19610ffacc2b4e99fae6737bb82f5d7fb13d2f2c186"
  },
  "kernelspec": {
   "display_name": "Python 3.8.8 ('base')",
   "language": "python",
   "name": "python3"
  },
  "language_info": {
   "codemirror_mode": {
    "name": "ipython",
    "version": 3
   },
   "file_extension": ".py",
   "mimetype": "text/x-python",
   "name": "python",
   "nbconvert_exporter": "python",
   "pygments_lexer": "ipython3",
   "version": "3.8.8"
  },
  "orig_nbformat": 4
 },
 "nbformat": 4,
 "nbformat_minor": 2
}
