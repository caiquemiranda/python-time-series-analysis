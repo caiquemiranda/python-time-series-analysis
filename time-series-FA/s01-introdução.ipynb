{
 "cells": [
  {
   "cell_type": "markdown",
   "metadata": {},
   "source": [
    "#### Definição\n",
    "#####  * Dados coletados em intervalos regulares de tempo\n",
    "\n",
    "###### intervalos: Milisegundos, hora, dia, mês...\n",
    "###### Ordem < Dependencia da ordem\n",
    "###### Tem em comum(componentes): Medida-Fato-Unidade de tempo\n",
    "\n",
    "#####  * Motivo de estudo\n",
    "###### Comprender fenomenos, comportamentos, prever eventos \n",
    "\n",
    "#####  * Componentes\n",
    "###### Tendencia, Sazonalidade, Ciclo, Erro(restante)\n",
    "###### - Tendencia -> aumento ou redução a longo prazo\n",
    "###### - Sazonalidade -> padrões que ocorrem em intervalos fixos\n",
    "###### - Ciclo -> aumento ou redução de frequencia sem intervalos fixos\n",
    "###### - Erro(restante) -> o que não é explicado matematicamente quando é feita a decomposição da serie temporal\n",
    "\n",
    "#####  * Autocorrelação\n",
    "###### Mede se existe uma relação matemática entre os intervalos da série temporal, tambem deve estar entre -1 e 1, sendo zero a ausência de autocorrelação\n",
    "\n",
    "###### Medida de intervalo(lag): de 1 intervalo -> mede como valores de 1 periodo distantes estão relacionados, de 2 intervalos -> mede como valores de 2 periodos distantes estão relacionados"
   ]
  },
  {
   "cell_type": "markdown",
   "metadata": {},
   "source": []
  }
 ],
 "metadata": {
  "language_info": {
   "name": "python"
  },
  "orig_nbformat": 4
 },
 "nbformat": 4,
 "nbformat_minor": 2
}
